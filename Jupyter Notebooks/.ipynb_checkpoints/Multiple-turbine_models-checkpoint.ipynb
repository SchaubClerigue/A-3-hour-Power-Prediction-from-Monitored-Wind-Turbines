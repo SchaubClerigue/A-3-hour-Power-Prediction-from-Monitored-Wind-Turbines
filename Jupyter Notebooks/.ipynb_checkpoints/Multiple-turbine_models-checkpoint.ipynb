{
 "cells": [
  {
   "cell_type": "markdown",
   "metadata": {},
   "source": [
    "#  Modelling:\n",
    "\n",
    "\n",
    "\n",
    "**- Model 1: KFold + Random Forest Regressor**\n",
    "\n",
    "**- Model 2: train_test_split + PCA + Random Forest Regressor**\n",
    "\n"
   ]
  },
  {
   "cell_type": "code",
   "execution_count": 1,
   "metadata": {},
   "outputs": [],
   "source": [
    "# Basics\n",
    "import pandas as pd\n",
    "import numpy as np\n",
    "\n",
    "# Visualization\n",
    "import seaborn as sns\n",
    "import matplotlib.pyplot as plt\n",
    "\n",
    "\n",
    "# Modelling\n",
    "from sklearn import neighbors\n",
    "from sklearn.ensemble import RandomForestRegressor\n",
    "from sklearn.datasets import make_regression\n",
    "from sklearn.model_selection import train_test_split\n",
    "from sklearn.decomposition import PCA \n",
    "from sklearn.model_selection import cross_val_score\n",
    "from sklearn.metrics import  r2_score\n",
    "from sklearn.model_selection import KFold"
   ]
  },
  {
   "cell_type": "markdown",
   "metadata": {},
   "source": [
    "### 1) Load processed data for modelling"
   ]
  },
  {
   "cell_type": "code",
   "execution_count": 2,
   "metadata": {},
   "outputs": [
    {
     "data": {
      "text/plain": [
       "(1001999, 51)"
      ]
     },
     "execution_count": 2,
     "metadata": {},
     "output_type": "execute_result"
    }
   ],
   "source": [
    "# Windfarm's data: 4 turbines\n",
    "df = pd.read_csv('4Gen_Model.csv')\n",
    "df.shape"
   ]
  },
  {
   "cell_type": "code",
   "execution_count": 3,
   "metadata": {},
   "outputs": [
    {
     "data": {
      "text/plain": [
       "(1001999, 2)"
      ]
     },
     "execution_count": 3,
     "metadata": {},
     "output_type": "execute_result"
    }
   ],
   "source": [
    "# Target  \n",
    "P_3h = pd.read_csv('P_3h.csv')\n",
    "P_3h.shape"
   ]
  },
  {
   "cell_type": "code",
   "execution_count": 4,
   "metadata": {},
   "outputs": [],
   "source": [
    "# Make a copy from our target's dataframe\n",
    "P_3h_model2 = P_3h.copy()"
   ]
  },
  {
   "cell_type": "code",
   "execution_count": 5,
   "metadata": {},
   "outputs": [],
   "source": [
    "# Delete datetime and 'Unnamed' cols\n",
    "del df['Unnamed: 0']\n",
    "del P_3h['datetime']"
   ]
  },
  {
   "cell_type": "code",
   "execution_count": 6,
   "metadata": {},
   "outputs": [],
   "source": [
    "# Convert P_3h['P_3h'] to float\n",
    "P_3h['P_3h'] = P_3h['P_3h'].astype(float)"
   ]
  },
  {
   "cell_type": "code",
   "execution_count": 7,
   "metadata": {},
   "outputs": [],
   "source": [
    "# Add P_3h['P_3h'] to our df\n",
    "df['P_3h'] = P_3h['P_3h']"
   ]
  },
  {
   "cell_type": "code",
   "execution_count": 8,
   "metadata": {},
   "outputs": [],
   "source": [
    "df.replace([np.inf, -np.inf], np.nan)\n",
    "df.dropna(inplace=True)"
   ]
  },
  {
   "cell_type": "code",
   "execution_count": 9,
   "metadata": {},
   "outputs": [
    {
     "data": {
      "text/html": [
       "<div>\n",
       "<style scoped>\n",
       "    .dataframe tbody tr th:only-of-type {\n",
       "        vertical-align: middle;\n",
       "    }\n",
       "\n",
       "    .dataframe tbody tr th {\n",
       "        vertical-align: top;\n",
       "    }\n",
       "\n",
       "    .dataframe thead th {\n",
       "        text-align: right;\n",
       "    }\n",
       "</style>\n",
       "<table border=\"1\" class=\"dataframe\">\n",
       "  <thead>\n",
       "    <tr style=\"text-align: right;\">\n",
       "      <th></th>\n",
       "      <th>pr_3h</th>\n",
       "      <th>Hum</th>\n",
       "      <th>Vis_hor</th>\n",
       "      <th>pr_st</th>\n",
       "      <th>W_blast</th>\n",
       "      <th>Rain_1h</th>\n",
       "      <th>Rain_3h</th>\n",
       "      <th>Ba_avg</th>\n",
       "      <th>Q_avg</th>\n",
       "      <th>Q_min</th>\n",
       "      <th>Q_max</th>\n",
       "      <th>Q_std</th>\n",
       "      <th>Dst_avg</th>\n",
       "      <th>Gb1t_avg</th>\n",
       "      <th>Git_avg</th>\n",
       "      <th>Gost_avg</th>\n",
       "      <th>Yt_avg</th>\n",
       "      <th>Ws1_std</th>\n",
       "      <th>Ws2_std</th>\n",
       "      <th>Ws_avg</th>\n",
       "      <th>Ws_min</th>\n",
       "      <th>Wa_avg</th>\n",
       "      <th>Ot_avg</th>\n",
       "      <th>Rs_avg</th>\n",
       "      <th>Rbt_avg</th>\n",
       "      <th>Yt_avg_1h</th>\n",
       "      <th>Yt_avg_3h</th>\n",
       "      <th>Rs_avg_1h</th>\n",
       "      <th>Rs_avg_6h</th>\n",
       "      <th>Gb1t_avg_3h</th>\n",
       "      <th>Gost_avg_6h</th>\n",
       "      <th>Wa_avg_1h</th>\n",
       "      <th>Wa_avg_3h</th>\n",
       "      <th>Ba_avg_1h</th>\n",
       "      <th>Ba_avg_3h</th>\n",
       "      <th>Ba_avg_6h</th>\n",
       "      <th>TI</th>\n",
       "      <th>year</th>\n",
       "      <th>Jan</th>\n",
       "      <th>Feb</th>\n",
       "      <th>Mar</th>\n",
       "      <th>Apr</th>\n",
       "      <th>May</th>\n",
       "      <th>Jun</th>\n",
       "      <th>Jul</th>\n",
       "      <th>Aug</th>\n",
       "      <th>Sept</th>\n",
       "      <th>Oct</th>\n",
       "      <th>Nov</th>\n",
       "      <th>Dec</th>\n",
       "      <th>P_3h</th>\n",
       "    </tr>\n",
       "  </thead>\n",
       "  <tbody>\n",
       "    <tr>\n",
       "      <th>0</th>\n",
       "      <td>1.828115</td>\n",
       "      <td>0.427551</td>\n",
       "      <td>-0.343928</td>\n",
       "      <td>0.188615</td>\n",
       "      <td>-0.488204</td>\n",
       "      <td>-0.249413</td>\n",
       "      <td>-0.308267</td>\n",
       "      <td>-0.490161</td>\n",
       "      <td>-0.365407</td>\n",
       "      <td>-0.493953</td>\n",
       "      <td>-0.175312</td>\n",
       "      <td>0.353918</td>\n",
       "      <td>0.614990</td>\n",
       "      <td>0.114025</td>\n",
       "      <td>0.696311</td>\n",
       "      <td>0.521116</td>\n",
       "      <td>-1.806464</td>\n",
       "      <td>-0.476675</td>\n",
       "      <td>-0.384012</td>\n",
       "      <td>-0.460145</td>\n",
       "      <td>-0.372538</td>\n",
       "      <td>0.679135</td>\n",
       "      <td>-1.301515</td>\n",
       "      <td>-0.150680</td>\n",
       "      <td>-0.352742</td>\n",
       "      <td>-0.708307</td>\n",
       "      <td>-0.703059</td>\n",
       "      <td>0.059662</td>\n",
       "      <td>0.840060</td>\n",
       "      <td>0.497692</td>\n",
       "      <td>0.530207</td>\n",
       "      <td>0.575047</td>\n",
       "      <td>0.572259</td>\n",
       "      <td>-0.521848</td>\n",
       "      <td>-0.548352</td>\n",
       "      <td>-0.574065</td>\n",
       "      <td>-0.172490</td>\n",
       "      <td>-1.414321</td>\n",
       "      <td>3.178073</td>\n",
       "      <td>-0.289012</td>\n",
       "      <td>-0.304384</td>\n",
       "      <td>-0.300468</td>\n",
       "      <td>-0.3021</td>\n",
       "      <td>-0.295254</td>\n",
       "      <td>-0.303896</td>\n",
       "      <td>-0.304853</td>\n",
       "      <td>-0.298914</td>\n",
       "      <td>-0.304447</td>\n",
       "      <td>-0.294122</td>\n",
       "      <td>-0.304898</td>\n",
       "      <td>340.419474</td>\n",
       "    </tr>\n",
       "    <tr>\n",
       "      <th>1</th>\n",
       "      <td>1.847227</td>\n",
       "      <td>0.431155</td>\n",
       "      <td>-0.362529</td>\n",
       "      <td>0.202339</td>\n",
       "      <td>-0.464488</td>\n",
       "      <td>-0.249413</td>\n",
       "      <td>-0.308267</td>\n",
       "      <td>-0.491620</td>\n",
       "      <td>-0.095413</td>\n",
       "      <td>-0.078753</td>\n",
       "      <td>0.254522</td>\n",
       "      <td>0.214777</td>\n",
       "      <td>0.311512</td>\n",
       "      <td>0.038454</td>\n",
       "      <td>0.582932</td>\n",
       "      <td>0.471823</td>\n",
       "      <td>-1.578586</td>\n",
       "      <td>-0.384337</td>\n",
       "      <td>-0.238869</td>\n",
       "      <td>-0.468434</td>\n",
       "      <td>-0.456910</td>\n",
       "      <td>0.658414</td>\n",
       "      <td>-1.308020</td>\n",
       "      <td>-0.159407</td>\n",
       "      <td>-0.400808</td>\n",
       "      <td>-0.804023</td>\n",
       "      <td>-0.779820</td>\n",
       "      <td>0.002593</td>\n",
       "      <td>0.816764</td>\n",
       "      <td>0.463364</td>\n",
       "      <td>0.533464</td>\n",
       "      <td>0.609698</td>\n",
       "      <td>0.577785</td>\n",
       "      <td>-0.519366</td>\n",
       "      <td>-0.547404</td>\n",
       "      <td>-0.573558</td>\n",
       "      <td>-0.096874</td>\n",
       "      <td>-1.414321</td>\n",
       "      <td>3.178073</td>\n",
       "      <td>-0.289012</td>\n",
       "      <td>-0.304384</td>\n",
       "      <td>-0.300468</td>\n",
       "      <td>-0.3021</td>\n",
       "      <td>-0.295254</td>\n",
       "      <td>-0.303896</td>\n",
       "      <td>-0.304853</td>\n",
       "      <td>-0.298914</td>\n",
       "      <td>-0.304447</td>\n",
       "      <td>-0.294122</td>\n",
       "      <td>-0.304898</td>\n",
       "      <td>316.015263</td>\n",
       "    </tr>\n",
       "    <tr>\n",
       "      <th>2</th>\n",
       "      <td>1.866339</td>\n",
       "      <td>0.434758</td>\n",
       "      <td>-0.381130</td>\n",
       "      <td>0.216064</td>\n",
       "      <td>-0.440772</td>\n",
       "      <td>-0.249413</td>\n",
       "      <td>-0.308267</td>\n",
       "      <td>-0.471566</td>\n",
       "      <td>0.067550</td>\n",
       "      <td>-0.502166</td>\n",
       "      <td>0.013570</td>\n",
       "      <td>0.123735</td>\n",
       "      <td>0.220469</td>\n",
       "      <td>0.014510</td>\n",
       "      <td>0.539244</td>\n",
       "      <td>0.441408</td>\n",
       "      <td>-0.810997</td>\n",
       "      <td>0.262030</td>\n",
       "      <td>-0.021155</td>\n",
       "      <td>-0.671512</td>\n",
       "      <td>-1.216257</td>\n",
       "      <td>0.807772</td>\n",
       "      <td>-1.301515</td>\n",
       "      <td>-0.173369</td>\n",
       "      <td>-0.414067</td>\n",
       "      <td>-0.858515</td>\n",
       "      <td>-0.821622</td>\n",
       "      <td>-0.063475</td>\n",
       "      <td>0.793102</td>\n",
       "      <td>0.424861</td>\n",
       "      <td>0.537239</td>\n",
       "      <td>0.668464</td>\n",
       "      <td>0.594047</td>\n",
       "      <td>-0.513918</td>\n",
       "      <td>-0.545321</td>\n",
       "      <td>-0.572446</td>\n",
       "      <td>0.344274</td>\n",
       "      <td>-1.414321</td>\n",
       "      <td>3.178073</td>\n",
       "      <td>-0.289012</td>\n",
       "      <td>-0.304384</td>\n",
       "      <td>-0.300468</td>\n",
       "      <td>-0.3021</td>\n",
       "      <td>-0.295254</td>\n",
       "      <td>-0.303896</td>\n",
       "      <td>-0.304853</td>\n",
       "      <td>-0.298914</td>\n",
       "      <td>-0.304447</td>\n",
       "      <td>-0.294122</td>\n",
       "      <td>-0.304898</td>\n",
       "      <td>288.485788</td>\n",
       "    </tr>\n",
       "    <tr>\n",
       "      <th>3</th>\n",
       "      <td>1.885451</td>\n",
       "      <td>0.438361</td>\n",
       "      <td>-0.399731</td>\n",
       "      <td>0.229788</td>\n",
       "      <td>-0.417056</td>\n",
       "      <td>-0.249413</td>\n",
       "      <td>-0.308267</td>\n",
       "      <td>0.207328</td>\n",
       "      <td>0.430419</td>\n",
       "      <td>-1.423820</td>\n",
       "      <td>1.911065</td>\n",
       "      <td>6.022615</td>\n",
       "      <td>0.305611</td>\n",
       "      <td>-0.079767</td>\n",
       "      <td>0.500758</td>\n",
       "      <td>0.406797</td>\n",
       "      <td>-0.539642</td>\n",
       "      <td>0.885312</td>\n",
       "      <td>-0.553345</td>\n",
       "      <td>-1.152269</td>\n",
       "      <td>-1.654990</td>\n",
       "      <td>0.740771</td>\n",
       "      <td>-1.283299</td>\n",
       "      <td>-0.735341</td>\n",
       "      <td>-0.427327</td>\n",
       "      <td>-0.906373</td>\n",
       "      <td>-0.852881</td>\n",
       "      <td>-0.198694</td>\n",
       "      <td>0.754397</td>\n",
       "      <td>0.382583</td>\n",
       "      <td>0.535654</td>\n",
       "      <td>0.713311</td>\n",
       "      <td>0.607271</td>\n",
       "      <td>-0.408027</td>\n",
       "      <td>-0.504838</td>\n",
       "      <td>-0.550827</td>\n",
       "      <td>0.788194</td>\n",
       "      <td>-1.414321</td>\n",
       "      <td>3.178073</td>\n",
       "      <td>-0.289012</td>\n",
       "      <td>-0.304384</td>\n",
       "      <td>-0.300468</td>\n",
       "      <td>-0.3021</td>\n",
       "      <td>-0.295254</td>\n",
       "      <td>-0.303896</td>\n",
       "      <td>-0.304853</td>\n",
       "      <td>-0.298914</td>\n",
       "      <td>-0.304447</td>\n",
       "      <td>-0.294122</td>\n",
       "      <td>-0.304898</td>\n",
       "      <td>263.388947</td>\n",
       "    </tr>\n",
       "    <tr>\n",
       "      <th>4</th>\n",
       "      <td>1.904563</td>\n",
       "      <td>0.441965</td>\n",
       "      <td>-0.418332</td>\n",
       "      <td>0.243512</td>\n",
       "      <td>-0.393340</td>\n",
       "      <td>-0.249413</td>\n",
       "      <td>-0.308267</td>\n",
       "      <td>1.168426</td>\n",
       "      <td>-0.924383</td>\n",
       "      <td>-0.657752</td>\n",
       "      <td>-0.986482</td>\n",
       "      <td>-0.846815</td>\n",
       "      <td>0.284536</td>\n",
       "      <td>-0.287028</td>\n",
       "      <td>0.381138</td>\n",
       "      <td>0.351211</td>\n",
       "      <td>-0.352242</td>\n",
       "      <td>-0.615182</td>\n",
       "      <td>-0.650107</td>\n",
       "      <td>-1.272458</td>\n",
       "      <td>-1.216257</td>\n",
       "      <td>0.665988</td>\n",
       "      <td>-1.268987</td>\n",
       "      <td>-1.597498</td>\n",
       "      <td>-0.470420</td>\n",
       "      <td>-0.942385</td>\n",
       "      <td>-0.833645</td>\n",
       "      <td>-0.431342</td>\n",
       "      <td>0.688112</td>\n",
       "      <td>0.327820</td>\n",
       "      <td>0.530293</td>\n",
       "      <td>0.726505</td>\n",
       "      <td>0.616940</td>\n",
       "      <td>-0.159994</td>\n",
       "      <td>-0.409992</td>\n",
       "      <td>-0.500178</td>\n",
       "      <td>0.354101</td>\n",
       "      <td>-1.414321</td>\n",
       "      <td>3.178073</td>\n",
       "      <td>-0.289012</td>\n",
       "      <td>-0.304384</td>\n",
       "      <td>-0.300468</td>\n",
       "      <td>-0.3021</td>\n",
       "      <td>-0.295254</td>\n",
       "      <td>-0.303896</td>\n",
       "      <td>-0.304853</td>\n",
       "      <td>-0.298914</td>\n",
       "      <td>-0.304447</td>\n",
       "      <td>-0.294122</td>\n",
       "      <td>-0.304898</td>\n",
       "      <td>234.953157</td>\n",
       "    </tr>\n",
       "  </tbody>\n",
       "</table>\n",
       "</div>"
      ],
      "text/plain": [
       "      pr_3h       Hum   Vis_hor     pr_st   W_blast   Rain_1h   Rain_3h  \\\n",
       "0  1.828115  0.427551 -0.343928  0.188615 -0.488204 -0.249413 -0.308267   \n",
       "1  1.847227  0.431155 -0.362529  0.202339 -0.464488 -0.249413 -0.308267   \n",
       "2  1.866339  0.434758 -0.381130  0.216064 -0.440772 -0.249413 -0.308267   \n",
       "3  1.885451  0.438361 -0.399731  0.229788 -0.417056 -0.249413 -0.308267   \n",
       "4  1.904563  0.441965 -0.418332  0.243512 -0.393340 -0.249413 -0.308267   \n",
       "\n",
       "     Ba_avg     Q_avg     Q_min     Q_max     Q_std   Dst_avg  Gb1t_avg  \\\n",
       "0 -0.490161 -0.365407 -0.493953 -0.175312  0.353918  0.614990  0.114025   \n",
       "1 -0.491620 -0.095413 -0.078753  0.254522  0.214777  0.311512  0.038454   \n",
       "2 -0.471566  0.067550 -0.502166  0.013570  0.123735  0.220469  0.014510   \n",
       "3  0.207328  0.430419 -1.423820  1.911065  6.022615  0.305611 -0.079767   \n",
       "4  1.168426 -0.924383 -0.657752 -0.986482 -0.846815  0.284536 -0.287028   \n",
       "\n",
       "    Git_avg  Gost_avg    Yt_avg   Ws1_std   Ws2_std    Ws_avg    Ws_min  \\\n",
       "0  0.696311  0.521116 -1.806464 -0.476675 -0.384012 -0.460145 -0.372538   \n",
       "1  0.582932  0.471823 -1.578586 -0.384337 -0.238869 -0.468434 -0.456910   \n",
       "2  0.539244  0.441408 -0.810997  0.262030 -0.021155 -0.671512 -1.216257   \n",
       "3  0.500758  0.406797 -0.539642  0.885312 -0.553345 -1.152269 -1.654990   \n",
       "4  0.381138  0.351211 -0.352242 -0.615182 -0.650107 -1.272458 -1.216257   \n",
       "\n",
       "     Wa_avg    Ot_avg    Rs_avg   Rbt_avg  Yt_avg_1h  Yt_avg_3h  Rs_avg_1h  \\\n",
       "0  0.679135 -1.301515 -0.150680 -0.352742  -0.708307  -0.703059   0.059662   \n",
       "1  0.658414 -1.308020 -0.159407 -0.400808  -0.804023  -0.779820   0.002593   \n",
       "2  0.807772 -1.301515 -0.173369 -0.414067  -0.858515  -0.821622  -0.063475   \n",
       "3  0.740771 -1.283299 -0.735341 -0.427327  -0.906373  -0.852881  -0.198694   \n",
       "4  0.665988 -1.268987 -1.597498 -0.470420  -0.942385  -0.833645  -0.431342   \n",
       "\n",
       "   Rs_avg_6h  Gb1t_avg_3h  Gost_avg_6h  Wa_avg_1h  Wa_avg_3h  Ba_avg_1h  \\\n",
       "0   0.840060     0.497692     0.530207   0.575047   0.572259  -0.521848   \n",
       "1   0.816764     0.463364     0.533464   0.609698   0.577785  -0.519366   \n",
       "2   0.793102     0.424861     0.537239   0.668464   0.594047  -0.513918   \n",
       "3   0.754397     0.382583     0.535654   0.713311   0.607271  -0.408027   \n",
       "4   0.688112     0.327820     0.530293   0.726505   0.616940  -0.159994   \n",
       "\n",
       "   Ba_avg_3h  Ba_avg_6h        TI      year       Jan       Feb       Mar  \\\n",
       "0  -0.548352  -0.574065 -0.172490 -1.414321  3.178073 -0.289012 -0.304384   \n",
       "1  -0.547404  -0.573558 -0.096874 -1.414321  3.178073 -0.289012 -0.304384   \n",
       "2  -0.545321  -0.572446  0.344274 -1.414321  3.178073 -0.289012 -0.304384   \n",
       "3  -0.504838  -0.550827  0.788194 -1.414321  3.178073 -0.289012 -0.304384   \n",
       "4  -0.409992  -0.500178  0.354101 -1.414321  3.178073 -0.289012 -0.304384   \n",
       "\n",
       "        Apr     May       Jun       Jul       Aug      Sept       Oct  \\\n",
       "0 -0.300468 -0.3021 -0.295254 -0.303896 -0.304853 -0.298914 -0.304447   \n",
       "1 -0.300468 -0.3021 -0.295254 -0.303896 -0.304853 -0.298914 -0.304447   \n",
       "2 -0.300468 -0.3021 -0.295254 -0.303896 -0.304853 -0.298914 -0.304447   \n",
       "3 -0.300468 -0.3021 -0.295254 -0.303896 -0.304853 -0.298914 -0.304447   \n",
       "4 -0.300468 -0.3021 -0.295254 -0.303896 -0.304853 -0.298914 -0.304447   \n",
       "\n",
       "        Nov       Dec        P_3h  \n",
       "0 -0.294122 -0.304898  340.419474  \n",
       "1 -0.294122 -0.304898  316.015263  \n",
       "2 -0.294122 -0.304898  288.485788  \n",
       "3 -0.294122 -0.304898  263.388947  \n",
       "4 -0.294122 -0.304898  234.953157  "
      ]
     },
     "execution_count": 9,
     "metadata": {},
     "output_type": "execute_result"
    }
   ],
   "source": [
    "# Dataframe for modelling: 4 turbines\n",
    "pd.set_option('display.max_columns', None)\n",
    "df.head()"
   ]
  },
  {
   "cell_type": "markdown",
   "metadata": {},
   "source": [
    "### 2) Divide data in X,Y "
   ]
  },
  {
   "cell_type": "code",
   "execution_count": 10,
   "metadata": {},
   "outputs": [],
   "source": [
    "# assign values of X and Y\n",
    "X= np.array(df.iloc[:,:-1])\n",
    "y= np.array(df.iloc[:,-1])"
   ]
  },
  {
   "cell_type": "code",
   "execution_count": 11,
   "metadata": {},
   "outputs": [
    {
     "data": {
      "text/plain": [
       "(1001692, 50)"
      ]
     },
     "execution_count": 11,
     "metadata": {},
     "output_type": "execute_result"
    }
   ],
   "source": [
    "X.shape"
   ]
  },
  {
   "cell_type": "code",
   "execution_count": 12,
   "metadata": {},
   "outputs": [
    {
     "data": {
      "text/plain": [
       "(1001692,)"
      ]
     },
     "execution_count": 12,
     "metadata": {},
     "output_type": "execute_result"
    }
   ],
   "source": [
    "y.shape"
   ]
  },
  {
   "cell_type": "markdown",
   "metadata": {},
   "source": [
    "### 3) Models\n",
    "    - 3.1 Model 2: KFold + Random Forest Regressor\n",
    "    - 3.2 Model 1: PCA + Random Forest Regressor"
   ]
  },
  {
   "cell_type": "markdown",
   "metadata": {},
   "source": [
    "**3.1 Model 1: KFold + Random Forest Regressor**"
   ]
  },
  {
   "cell_type": "code",
   "execution_count": 13,
   "metadata": {},
   "outputs": [
    {
     "name": "stdout",
     "output_type": "stream",
     "text": [
      "KFold(n_splits=5, random_state=None, shuffle=False)\n",
      "TRAIN: [ 200339  200340  200341 ... 1001689 1001690 1001691] TEST: [     0      1      2 ... 200336 200337 200338]\n"
     ]
    },
    {
     "name": "stderr",
     "output_type": "stream",
     "text": [
      "[Parallel(n_jobs=-1)]: Using backend ThreadingBackend with 12 concurrent workers.\n"
     ]
    },
    {
     "name": "stdout",
     "output_type": "stream",
     "text": [
      "building tree 1 of 50building tree 2 of 50\n",
      "building tree 3 of 50\n",
      "building tree 4 of 50\n",
      "building tree 5 of 50building tree 6 of 50\n",
      "\n",
      "building tree 7 of 50building tree 8 of 50\n",
      "building tree 9 of 50\n",
      "building tree 10 of 50\n",
      "\n",
      "building tree 11 of 50\n",
      "\n",
      "building tree 12 of 50\n",
      "building tree 13 of 50\n",
      "building tree 14 of 50\n",
      "building tree 15 of 50\n",
      "building tree 16 of 50\n",
      "building tree 17 of 50\n",
      "building tree 18 of 50\n",
      "building tree 19 of 50\n",
      "building tree 20 of 50\n"
     ]
    },
    {
     "name": "stderr",
     "output_type": "stream",
     "text": [
      "[Parallel(n_jobs=-1)]: Done   8 tasks      | elapsed:  1.2min\n"
     ]
    },
    {
     "name": "stdout",
     "output_type": "stream",
     "text": [
      "building tree 21 of 50\n",
      "building tree 22 of 50\n",
      "building tree 23 of 50\n",
      "building tree 24 of 50\n",
      "building tree 25 of 50\n",
      "building tree 26 of 50\n",
      "building tree 27 of 50\n",
      "building tree 28 of 50\n",
      "building tree 29 of 50\n",
      "building tree 30 of 50\n",
      "building tree 31 of 50\n",
      "building tree 32 of 50\n",
      "building tree 33 of 50\n",
      "building tree 34 of 50\n",
      "building tree 35 of 50\n",
      "building tree 36 of 50\n",
      "building tree 37 of 50\n",
      "building tree 38 of 50\n",
      "building tree 39 of 50\n",
      "building tree 40 of 50\n",
      "building tree 41 of 50\n",
      "building tree 42 of 50\n",
      "building tree 43 of 50\n",
      "building tree 44 of 50\n",
      "building tree 45 of 50\n",
      "building tree 46 of 50\n",
      "building tree 47 of 50\n",
      "building tree 48 of 50\n",
      "building tree 49 of 50\n",
      "building tree 50 of 50\n"
     ]
    },
    {
     "name": "stderr",
     "output_type": "stream",
     "text": [
      "[Parallel(n_jobs=-1)]: Done  44 out of  50 | elapsed:  4.7min remaining:   38.4s\n",
      "[Parallel(n_jobs=-1)]: Done  50 out of  50 | elapsed:  5.2min finished\n",
      "[Parallel(n_jobs=12)]: Using backend ThreadingBackend with 12 concurrent workers.\n",
      "[Parallel(n_jobs=12)]: Done   8 tasks      | elapsed:    0.2s\n",
      "[Parallel(n_jobs=12)]: Done  44 out of  50 | elapsed:    0.8s remaining:    0.1s\n",
      "[Parallel(n_jobs=12)]: Done  50 out of  50 | elapsed:    0.9s finished\n"
     ]
    },
    {
     "name": "stdout",
     "output_type": "stream",
     "text": [
      "0.9839595396621688\n",
      "TRAIN: [      0       1       2 ... 1001689 1001690 1001691] TEST: [200339 200340 200341 ... 400675 400676 400677]\n"
     ]
    },
    {
     "name": "stderr",
     "output_type": "stream",
     "text": [
      "[Parallel(n_jobs=-1)]: Using backend ThreadingBackend with 12 concurrent workers.\n"
     ]
    },
    {
     "name": "stdout",
     "output_type": "stream",
     "text": [
      "building tree 1 of 50building tree 2 of 50\n",
      "building tree 3 of 50\n",
      "\n",
      "building tree 4 of 50building tree 5 of 50building tree 6 of 50\n",
      "building tree 7 of 50\n",
      "\n",
      "\n",
      "building tree 8 of 50\n",
      "building tree 9 of 50\n",
      "building tree 10 of 50\n",
      "building tree 11 of 50building tree 12 of 50\n",
      "\n",
      "building tree 13 of 50\n",
      "building tree 14 of 50\n",
      "building tree 15 of 50\n",
      "building tree 16 of 50\n",
      "building tree 17 of 50\n",
      "building tree 18 of 50\n",
      "building tree 19 of 50\n",
      "building tree 20 of 50building tree 21 of 50\n",
      "\n",
      "building tree 22 of 50\n"
     ]
    },
    {
     "name": "stderr",
     "output_type": "stream",
     "text": [
      "[Parallel(n_jobs=-1)]: Done   8 tasks      | elapsed:  1.1min\n"
     ]
    },
    {
     "name": "stdout",
     "output_type": "stream",
     "text": [
      "building tree 23 of 50\n",
      "building tree 24 of 50\n",
      "building tree 25 of 50\n",
      "building tree 26 of 50\n",
      "building tree 27 of 50\n",
      "building tree 28 of 50\n",
      "building tree 29 of 50\n",
      "building tree 30 of 50\n",
      "building tree 31 of 50\n",
      "building tree 32 of 50\n",
      "building tree 33 of 50\n",
      "building tree 34 of 50\n",
      "building tree 35 of 50\n",
      "building tree 36 of 50\n",
      "building tree 37 of 50\n",
      "building tree 38 of 50\n",
      "building tree 39 of 50\n",
      "building tree 40 of 50building tree 41 of 50\n",
      "\n",
      "building tree 42 of 50\n",
      "building tree 43 of 50\n",
      "building tree 44 of 50\n",
      "building tree 45 of 50\n",
      "building tree 46 of 50\n",
      "building tree 47 of 50\n",
      "building tree 48 of 50\n",
      "building tree 49 of 50\n",
      "building tree 50 of 50\n"
     ]
    },
    {
     "name": "stderr",
     "output_type": "stream",
     "text": [
      "[Parallel(n_jobs=-1)]: Done  44 out of  50 | elapsed:  4.5min remaining:   37.1s\n",
      "[Parallel(n_jobs=-1)]: Done  50 out of  50 | elapsed:  5.1min finished\n",
      "[Parallel(n_jobs=12)]: Using backend ThreadingBackend with 12 concurrent workers.\n",
      "[Parallel(n_jobs=12)]: Done   8 tasks      | elapsed:    0.2s\n",
      "[Parallel(n_jobs=12)]: Done  44 out of  50 | elapsed:    0.8s remaining:    0.1s\n",
      "[Parallel(n_jobs=12)]: Done  50 out of  50 | elapsed:    0.9s finished\n"
     ]
    },
    {
     "name": "stdout",
     "output_type": "stream",
     "text": [
      "0.9838687091638788\n",
      "TRAIN: [      0       1       2 ... 1001689 1001690 1001691] TEST: [400678 400679 400680 ... 601013 601014 601015]\n"
     ]
    },
    {
     "name": "stderr",
     "output_type": "stream",
     "text": [
      "[Parallel(n_jobs=-1)]: Using backend ThreadingBackend with 12 concurrent workers.\n"
     ]
    },
    {
     "name": "stdout",
     "output_type": "stream",
     "text": [
      "building tree 1 of 50building tree 2 of 50\n",
      "building tree 3 of 50\n",
      "building tree 4 of 50building tree 5 of 50\n",
      "building tree 6 of 50\n",
      "\n",
      "\n",
      "building tree 7 of 50building tree 8 of 50\n",
      "building tree 9 of 50building tree 10 of 50\n",
      "building tree 11 of 50\n",
      "\n",
      "\n",
      "building tree 12 of 50\n",
      "building tree 13 of 50\n",
      "building tree 14 of 50\n",
      "building tree 15 of 50\n",
      "building tree 16 of 50\n",
      "building tree 17 of 50\n",
      "building tree 18 of 50\n",
      "building tree 19 of 50\n",
      "building tree 20 of 50\n",
      "building tree 21 of 50\n"
     ]
    },
    {
     "name": "stderr",
     "output_type": "stream",
     "text": [
      "[Parallel(n_jobs=-1)]: Done   8 tasks      | elapsed:  1.1min\n"
     ]
    },
    {
     "name": "stdout",
     "output_type": "stream",
     "text": [
      "building tree 22 of 50\n",
      "building tree 23 of 50\n",
      "building tree 24 of 50\n",
      "building tree 25 of 50\n",
      "building tree 26 of 50\n",
      "building tree 27 of 50\n",
      "building tree 28 of 50\n",
      "building tree 29 of 50\n",
      "building tree 30 of 50\n",
      "building tree 31 of 50\n",
      "building tree 32 of 50\n",
      "building tree 33 of 50\n",
      "building tree 34 of 50\n",
      "building tree 35 of 50\n",
      "building tree 36 of 50\n",
      "building tree 37 of 50\n",
      "building tree 38 of 50\n",
      "building tree 39 of 50\n",
      "building tree 40 of 50\n",
      "building tree 41 of 50\n",
      "building tree 42 of 50\n",
      "building tree 43 of 50\n",
      "building tree 44 of 50\n",
      "building tree 45 of 50\n",
      "building tree 46 of 50\n",
      "building tree 47 of 50\n",
      "building tree 48 of 50\n",
      "building tree 49 of 50\n",
      "building tree 50 of 50\n"
     ]
    },
    {
     "name": "stderr",
     "output_type": "stream",
     "text": [
      "[Parallel(n_jobs=-1)]: Done  44 out of  50 | elapsed:  4.6min remaining:   37.9s\n",
      "[Parallel(n_jobs=-1)]: Done  50 out of  50 | elapsed:  5.1min finished\n",
      "[Parallel(n_jobs=12)]: Using backend ThreadingBackend with 12 concurrent workers.\n",
      "[Parallel(n_jobs=12)]: Done   8 tasks      | elapsed:    0.2s\n",
      "[Parallel(n_jobs=12)]: Done  44 out of  50 | elapsed:    0.8s remaining:    0.1s\n",
      "[Parallel(n_jobs=12)]: Done  50 out of  50 | elapsed:    0.8s finished\n"
     ]
    },
    {
     "name": "stdout",
     "output_type": "stream",
     "text": [
      "0.986420404572897\n",
      "TRAIN: [      0       1       2 ... 1001689 1001690 1001691] TEST: [601016 601017 601018 ... 801351 801352 801353]\n"
     ]
    },
    {
     "name": "stderr",
     "output_type": "stream",
     "text": [
      "[Parallel(n_jobs=-1)]: Using backend ThreadingBackend with 12 concurrent workers.\n"
     ]
    },
    {
     "name": "stdout",
     "output_type": "stream",
     "text": [
      "building tree 1 of 50\n",
      "building tree 2 of 50\n",
      "building tree 3 of 50building tree 4 of 50\n",
      "building tree 5 of 50building tree 6 of 50\n",
      "\n",
      "\n",
      "building tree 7 of 50building tree 8 of 50\n",
      "building tree 9 of 50building tree 10 of 50\n",
      "building tree 11 of 50\n",
      "\n",
      "\n",
      "building tree 12 of 50\n",
      "building tree 13 of 50\n",
      "building tree 14 of 50\n",
      "building tree 15 of 50\n",
      "building tree 16 of 50\n",
      "building tree 17 of 50building tree 18 of 50\n",
      "\n",
      "building tree 19 of 50\n",
      "building tree 20 of 50\n"
     ]
    },
    {
     "name": "stderr",
     "output_type": "stream",
     "text": [
      "[Parallel(n_jobs=-1)]: Done   8 tasks      | elapsed:  1.1min\n"
     ]
    },
    {
     "name": "stdout",
     "output_type": "stream",
     "text": [
      "building tree 21 of 50\n",
      "building tree 22 of 50\n",
      "building tree 23 of 50\n",
      "building tree 24 of 50\n",
      "building tree 25 of 50\n",
      "building tree 26 of 50\n",
      "building tree 27 of 50\n",
      "building tree 28 of 50\n",
      "building tree 29 of 50\n",
      "building tree 30 of 50\n",
      "building tree 31 of 50\n",
      "building tree 32 of 50\n",
      "building tree 33 of 50\n",
      "building tree 34 of 50\n",
      "building tree 35 of 50\n",
      "building tree 36 of 50\n",
      "building tree 37 of 50\n",
      "building tree 38 of 50\n",
      "building tree 39 of 50\n",
      "building tree 40 of 50\n",
      "building tree 41 of 50\n",
      "building tree 42 of 50\n",
      "building tree 43 of 50\n",
      "building tree 44 of 50\n",
      "building tree 45 of 50\n",
      "building tree 46 of 50\n",
      "building tree 47 of 50\n",
      "building tree 48 of 50\n",
      "building tree 49 of 50\n",
      "building tree 50 of 50\n"
     ]
    },
    {
     "name": "stderr",
     "output_type": "stream",
     "text": [
      "[Parallel(n_jobs=-1)]: Done  44 out of  50 | elapsed:  4.7min remaining:   38.2s\n",
      "[Parallel(n_jobs=-1)]: Done  50 out of  50 | elapsed:  5.2min finished\n",
      "[Parallel(n_jobs=12)]: Using backend ThreadingBackend with 12 concurrent workers.\n",
      "[Parallel(n_jobs=12)]: Done   8 tasks      | elapsed:    0.2s\n",
      "[Parallel(n_jobs=12)]: Done  44 out of  50 | elapsed:    0.7s remaining:    0.1s\n",
      "[Parallel(n_jobs=12)]: Done  50 out of  50 | elapsed:    0.8s finished\n"
     ]
    },
    {
     "name": "stdout",
     "output_type": "stream",
     "text": [
      "0.9891616142819413\n",
      "TRAIN: [     0      1      2 ... 801351 801352 801353] TEST: [ 801354  801355  801356 ... 1001689 1001690 1001691]\n"
     ]
    },
    {
     "name": "stderr",
     "output_type": "stream",
     "text": [
      "[Parallel(n_jobs=-1)]: Using backend ThreadingBackend with 12 concurrent workers.\n"
     ]
    },
    {
     "name": "stdout",
     "output_type": "stream",
     "text": [
      "building tree 1 of 50\n",
      "building tree 2 of 50building tree 3 of 50\n",
      "building tree 4 of 50building tree 5 of 50\n",
      "building tree 6 of 50\n",
      "\n",
      "\n",
      "building tree 7 of 50building tree 8 of 50\n",
      "building tree 9 of 50building tree 10 of 50\n",
      "building tree 11 of 50\n",
      "\n",
      "building tree 12 of 50\n",
      "\n",
      "building tree 13 of 50\n",
      "building tree 14 of 50\n",
      "building tree 15 of 50\n",
      "building tree 16 of 50\n",
      "building tree 17 of 50\n",
      "building tree 18 of 50\n",
      "building tree 19 of 50\n",
      "building tree 20 of 50\n",
      "building tree 21 of 50\n"
     ]
    },
    {
     "name": "stderr",
     "output_type": "stream",
     "text": [
      "[Parallel(n_jobs=-1)]: Done   8 tasks      | elapsed:  1.1min\n"
     ]
    },
    {
     "name": "stdout",
     "output_type": "stream",
     "text": [
      "building tree 22 of 50\n",
      "building tree 23 of 50\n",
      "building tree 24 of 50\n",
      "building tree 25 of 50\n",
      "building tree 26 of 50\n",
      "building tree 27 of 50\n",
      "building tree 28 of 50\n",
      "building tree 29 of 50\n",
      "building tree 30 of 50\n",
      "building tree 31 of 50\n",
      "building tree 32 of 50\n",
      "building tree 33 of 50\n",
      "building tree 34 of 50\n",
      "building tree 35 of 50\n",
      "building tree 36 of 50\n",
      "building tree 37 of 50\n",
      "building tree 38 of 50\n",
      "building tree 39 of 50\n",
      "building tree 40 of 50\n",
      "building tree 41 of 50\n",
      "building tree 42 of 50\n",
      "building tree 43 of 50\n",
      "building tree 44 of 50\n",
      "building tree 45 of 50\n",
      "building tree 46 of 50\n",
      "building tree 47 of 50\n",
      "building tree 48 of 50\n",
      "building tree 49 of 50\n",
      "building tree 50 of 50\n"
     ]
    },
    {
     "name": "stderr",
     "output_type": "stream",
     "text": [
      "[Parallel(n_jobs=-1)]: Done  44 out of  50 | elapsed:  4.3min remaining:   35.5s\n",
      "[Parallel(n_jobs=-1)]: Done  50 out of  50 | elapsed:  4.8min finished\n",
      "[Parallel(n_jobs=12)]: Using backend ThreadingBackend with 12 concurrent workers.\n",
      "[Parallel(n_jobs=12)]: Done   8 tasks      | elapsed:    0.2s\n"
     ]
    },
    {
     "name": "stdout",
     "output_type": "stream",
     "text": [
      "0.9829509234004059\n",
      "CPU times: user 3h 59min 12s, sys: 1min 23s, total: 4h 35s\n",
      "Wall time: 25min 31s\n"
     ]
    },
    {
     "name": "stderr",
     "output_type": "stream",
     "text": [
      "[Parallel(n_jobs=12)]: Done  44 out of  50 | elapsed:    0.7s remaining:    0.1s\n",
      "[Parallel(n_jobs=12)]: Done  50 out of  50 | elapsed:    0.7s finished\n"
     ]
    }
   ],
   "source": [
    "%%time\n",
    "kf = KFold(n_splits=5) # Define the split - into 2 folds \n",
    "kf.get_n_splits(X) # returns the number of splitting iterations in the cross-validator\n",
    "print(kf) \n",
    "KFold(n_splits=5, random_state=None, shuffle=False)\n",
    "\n",
    "rfr = RandomForestRegressor(n_estimators = 50, random_state = 0, verbose=3, n_jobs=-1, max_depth= 50)\n",
    "for train_index, test_index in kf.split(X):\n",
    "    print (\"TRAIN:\",train_index,\"TEST:\",test_index)\n",
    "    X_train, X_test = X[train_index], X[test_index]\n",
    "    y_train, y_test= y[train_index], y[test_index]\n",
    "    rfr.fit(X_train, y_train)\n",
    "    #yhat= rfr.predict(X_test)\n",
    "    r2_ajustada = 1 - (1-rfr.score(X_test, y_test))*(len(y_test)-1)/(len(y_test)-X_test.shape[1]-1)\n",
    "    print(r2_ajustada)"
   ]
  },
  {
   "cell_type": "markdown",
   "metadata": {},
   "source": [
    "**3.2 Model 2: PCA + Random Forest Regressor**"
   ]
  },
  {
   "cell_type": "code",
   "execution_count": 14,
   "metadata": {},
   "outputs": [],
   "source": [
    "# Division of training and test sets \n",
    "X_train, X_test, y_train, y_test = train_test_split(X, y, test_size=0.3)"
   ]
  },
  {
   "cell_type": "code",
   "execution_count": 15,
   "metadata": {},
   "outputs": [],
   "source": [
    "# Apply PCA; 10 components/features\n",
    "pca = PCA(n_components=10)\n",
    "X_train_pca = pca.fit_transform(X_train)\n",
    "X_test_pca = pca.transform(X_test)"
   ]
  },
  {
   "cell_type": "code",
   "execution_count": 16,
   "metadata": {
    "scrolled": true
   },
   "outputs": [
    {
     "data": {
      "image/png": "[encoded data removed]",
      "text/plain": [
       "<Figure size 576x432 with 1 Axes>"
      ]
     },
     "metadata": {},
     "output_type": "display_data"
    }
   ],
   "source": [
    "# Plot PCA Variance vs PCA index; relevance of PCA-created features\n",
    "plt.figure(figsize=(8,6))\n",
    "plt.bar(range(0,10), pca.explained_variance_ratio_)\n",
    "plt.title('Variance vs PCA index')\n",
    "plt.ylabel('Variance')\n",
    "plt.xlabel('PCA Index')\n",
    "plt.show()"
   ]
  },
  {
   "cell_type": "code",
   "execution_count": 17,
   "metadata": {
    "scrolled": true
   },
   "outputs": [
    {
     "name": "stderr",
     "output_type": "stream",
     "text": [
      "[Parallel(n_jobs=-1)]: Using backend ThreadingBackend with 12 concurrent workers.\n"
     ]
    },
    {
     "name": "stdout",
     "output_type": "stream",
     "text": [
      "building tree 1 of 100building tree 2 of 100\n",
      "\n",
      "building tree 3 of 100\n",
      "building tree 4 of 100\n",
      "building tree 5 of 100building tree 6 of 100\n",
      "building tree 7 of 100building tree 8 of 100\n",
      "building tree 9 of 100\n",
      "\n",
      "\n",
      "building tree 10 of 100\n",
      "building tree 11 of 100building tree 12 of 100\n",
      "\n",
      "building tree 13 of 100\n",
      "building tree 14 of 100\n",
      "building tree 15 of 100\n",
      "building tree 16 of 100\n",
      "building tree 17 of 100\n",
      "building tree 18 of 100\n",
      "building tree 19 of 100\n",
      "building tree 20 of 100\n",
      "building tree 21 of 100\n"
     ]
    },
    {
     "name": "stderr",
     "output_type": "stream",
     "text": [
      "[Parallel(n_jobs=-1)]: Done   8 tasks      | elapsed:   21.6s\n"
     ]
    },
    {
     "name": "stdout",
     "output_type": "stream",
     "text": [
      "building tree 22 of 100\n",
      "building tree 23 of 100\n",
      "building tree 24 of 100\n",
      "building tree 25 of 100\n",
      "building tree 26 of 100\n",
      "building tree 27 of 100\n",
      "building tree 28 of 100\n",
      "building tree 29 of 100\n",
      "building tree 30 of 100\n",
      "building tree 31 of 100\n",
      "building tree 32 of 100\n",
      "building tree 33 of 100\n",
      "building tree 34 of 100\n",
      "building tree 35 of 100\n",
      "building tree 36 of 100\n",
      "building tree 37 of 100\n",
      "building tree 38 of 100\n",
      "building tree 39 of 100\n",
      "building tree 40 of 100\n",
      "building tree 41 of 100\n",
      "building tree 42 of 100\n",
      "building tree 43 of 100\n",
      "building tree 44 of 100\n",
      "building tree 45 of 100\n",
      "building tree 46 of 100\n",
      "building tree 47 of 100\n",
      "building tree 48 of 100\n",
      "building tree 49 of 100\n",
      "building tree 50 of 100\n",
      "building tree 51 of 100\n",
      "building tree 52 of 100\n",
      "building tree 53 of 100\n",
      "building tree 54 of 100\n",
      "building tree 55 of 100\n",
      "building tree 56 of 100\n",
      "building tree 57 of 100\n",
      "building tree 58 of 100\n",
      "building tree 59 of 100\n",
      "building tree 60 of 100\n",
      "building tree 61 of 100\n",
      "building tree 62 of 100\n",
      "building tree 63 of 100\n",
      "building tree 64 of 100\n",
      "building tree 65 of 100\n",
      "building tree 66 of 100\n",
      "building tree 67 of 100\n",
      "building tree 68 of 100\n",
      "building tree 69 of 100\n",
      "building tree 70 of 100\n",
      "building tree 71 of 100\n",
      "building tree 72 of 100\n",
      "building tree 73 of 100\n",
      "building tree 74 of 100\n",
      "building tree 75 of 100\n",
      "building tree 76 of 100\n",
      "building tree 77 of 100\n",
      "building tree 78 of 100\n",
      "building tree 79 of 100\n",
      "building tree 80 of 100\n",
      "building tree 81 of 100\n",
      "building tree 82 of 100\n",
      "building tree 83 of 100\n",
      "building tree 84 of 100\n",
      "building tree 85 of 100\n",
      "building tree 86 of 100\n",
      "building tree 87 of 100\n",
      "building tree 88 of 100\n",
      "building tree 89 of 100\n",
      "building tree 90 of 100\n",
      "building tree 91 of 100\n",
      "building tree 92 of 100\n",
      "building tree 93 of 100\n",
      "building tree 94 of 100\n",
      "building tree 95 of 100\n",
      "building tree 96 of 100\n",
      "building tree 97 of 100\n",
      "building tree 98 of 100\n",
      "building tree 99 of 100\n",
      "building tree 100 of 100\n"
     ]
    },
    {
     "name": "stderr",
     "output_type": "stream",
     "text": [
      "[Parallel(n_jobs=-1)]: Done 100 out of 100 | elapsed:  3.1min finished\n",
      "[Parallel(n_jobs=-1)]: Using backend LokyBackend with 12 concurrent workers.\n",
      "[Parallel(n_jobs=-1)]: Done   8 tasks      | elapsed:   24.0s\n",
      "[Parallel(n_jobs=-1)]: Done 100 out of 100 | elapsed:  3.0min finished\n",
      "[Parallel(n_jobs=12)]: Using backend ThreadingBackend with 12 concurrent workers.\n",
      "[Parallel(n_jobs=12)]: Done   8 tasks      | elapsed:    0.3s\n",
      "[Parallel(n_jobs=12)]: Done 100 out of 100 | elapsed:    3.4s finished\n",
      "[Parallel(n_jobs=-1)]: Using backend LokyBackend with 12 concurrent workers.\n",
      "[Parallel(n_jobs=-1)]: Done   8 tasks      | elapsed:   21.1s\n",
      "[Parallel(n_jobs=-1)]: Done 100 out of 100 | elapsed:  2.9min finished\n",
      "[Parallel(n_jobs=12)]: Using backend ThreadingBackend with 12 concurrent workers.\n",
      "[Parallel(n_jobs=12)]: Done   8 tasks      | elapsed:    0.3s\n",
      "[Parallel(n_jobs=12)]: Done 100 out of 100 | elapsed:    3.3s finished\n",
      "[Parallel(n_jobs=-1)]: Using backend LokyBackend with 12 concurrent workers.\n",
      "[Parallel(n_jobs=-1)]: Done   8 tasks      | elapsed:   23.1s\n",
      "[Parallel(n_jobs=-1)]: Done 100 out of 100 | elapsed:  2.9min finished\n",
      "[Parallel(n_jobs=12)]: Using backend ThreadingBackend with 12 concurrent workers.\n",
      "[Parallel(n_jobs=12)]: Done   8 tasks      | elapsed:    0.1s\n",
      "[Parallel(n_jobs=12)]: Done 100 out of 100 | elapsed:    1.0s finished\n",
      "[Parallel(n_jobs=-1)]: Using backend LokyBackend with 12 concurrent workers.\n",
      "[Parallel(n_jobs=-1)]: Done   8 tasks      | elapsed:   20.6s\n",
      "[Parallel(n_jobs=-1)]: Done 100 out of 100 | elapsed:  2.9min finished\n",
      "[Parallel(n_jobs=12)]: Using backend ThreadingBackend with 12 concurrent workers.\n",
      "[Parallel(n_jobs=12)]: Done   8 tasks      | elapsed:    0.1s\n",
      "[Parallel(n_jobs=12)]: Done 100 out of 100 | elapsed:    1.0s finished\n",
      "[Parallel(n_jobs=-1)]: Using backend LokyBackend with 12 concurrent workers.\n",
      "[Parallel(n_jobs=-1)]: Done   8 tasks      | elapsed:   20.7s\n",
      "[Parallel(n_jobs=-1)]: Done 100 out of 100 | elapsed:  2.8min finished\n",
      "[Parallel(n_jobs=12)]: Using backend ThreadingBackend with 12 concurrent workers.\n",
      "[Parallel(n_jobs=12)]: Done   8 tasks      | elapsed:    0.1s\n",
      "[Parallel(n_jobs=12)]: Done 100 out of 100 | elapsed:    1.0s finished\n",
      "[Parallel(n_jobs=-1)]: Using backend LokyBackend with 12 concurrent workers.\n",
      "[Parallel(n_jobs=-1)]: Done   8 tasks      | elapsed:   20.9s\n",
      "[Parallel(n_jobs=-1)]: Done 100 out of 100 | elapsed:  2.8min finished\n",
      "[Parallel(n_jobs=12)]: Using backend ThreadingBackend with 12 concurrent workers.\n",
      "[Parallel(n_jobs=12)]: Done   8 tasks      | elapsed:    0.4s\n",
      "[Parallel(n_jobs=12)]: Done 100 out of 100 | elapsed:    3.1s finished\n",
      "[Parallel(n_jobs=-1)]: Using backend LokyBackend with 12 concurrent workers.\n",
      "[Parallel(n_jobs=-1)]: Done   8 tasks      | elapsed:   21.7s\n",
      "[Parallel(n_jobs=-1)]: Done 100 out of 100 | elapsed:  2.9min finished\n",
      "[Parallel(n_jobs=12)]: Using backend ThreadingBackend with 12 concurrent workers.\n",
      "[Parallel(n_jobs=12)]: Done   8 tasks      | elapsed:    0.1s\n",
      "[Parallel(n_jobs=12)]: Done 100 out of 100 | elapsed:    1.1s finished\n",
      "[Parallel(n_jobs=-1)]: Using backend LokyBackend with 12 concurrent workers.\n",
      "[Parallel(n_jobs=-1)]: Done   8 tasks      | elapsed:   26.9s\n",
      "[Parallel(n_jobs=-1)]: Done 100 out of 100 | elapsed:  3.3min finished\n",
      "[Parallel(n_jobs=12)]: Using backend ThreadingBackend with 12 concurrent workers.\n",
      "[Parallel(n_jobs=12)]: Done   8 tasks      | elapsed:    0.2s\n",
      "[Parallel(n_jobs=12)]: Done 100 out of 100 | elapsed:    1.5s finished\n",
      "[Parallel(n_jobs=-1)]: Using backend LokyBackend with 12 concurrent workers.\n",
      "[Parallel(n_jobs=-1)]: Done   8 tasks      | elapsed:   24.5s\n",
      "[Parallel(n_jobs=-1)]: Done 100 out of 100 | elapsed:  3.6min finished\n",
      "[Parallel(n_jobs=12)]: Using backend ThreadingBackend with 12 concurrent workers.\n",
      "[Parallel(n_jobs=12)]: Done   8 tasks      | elapsed:    0.4s\n",
      "[Parallel(n_jobs=12)]: Done 100 out of 100 | elapsed:    3.6s finished\n",
      "[Parallel(n_jobs=-1)]: Using backend LokyBackend with 12 concurrent workers.\n",
      "[Parallel(n_jobs=-1)]: Done   8 tasks      | elapsed:   25.3s\n",
      "[Parallel(n_jobs=-1)]: Done 100 out of 100 | elapsed:  3.7min finished\n",
      "[Parallel(n_jobs=12)]: Using backend ThreadingBackend with 12 concurrent workers.\n",
      "[Parallel(n_jobs=12)]: Done   8 tasks      | elapsed:    0.3s\n",
      "[Parallel(n_jobs=12)]: Done 100 out of 100 | elapsed:    4.1s finished\n"
     ]
    },
    {
     "name": "stdout",
     "output_type": "stream",
     "text": [
      "CPU times: user 35min 13s, sys: 4min 1s, total: 39min 14s\n",
      "Wall time: 34min 19s\n"
     ]
    }
   ],
   "source": [
    "%%time\n",
    "# Random forest regressor: 100 trees\n",
    "rfr_pca = RandomForestRegressor(n_estimators = 100, random_state = 0, verbose=3, n_jobs=-1)\n",
    "rfr_pca.fit(X_train_pca, y_train)\n",
    "\n",
    "scores = cross_val_score(rfr_pca, X_train_pca, y_train, cv = 10, scoring=\"r2\")"
   ]
  },
  {
   "cell_type": "markdown",
   "metadata": {},
   "source": [
    "### 4) Metrics\n",
    "    - 4.1 Calculate yhat (predicted)\n",
    "    - 4.2 Calculate r2 score\n",
    "    - 4.3 Calculate MAE (mean absolute error)"
   ]
  },
  {
   "cell_type": "markdown",
   "metadata": {},
   "source": [
    "**4.1 Calculate yhat (predicted)**"
   ]
  },
  {
   "cell_type": "code",
   "execution_count": 18,
   "metadata": {},
   "outputs": [
    {
     "name": "stderr",
     "output_type": "stream",
     "text": [
      "[Parallel(n_jobs=12)]: Using backend ThreadingBackend with 12 concurrent workers.\n",
      "[Parallel(n_jobs=12)]: Done   8 tasks      | elapsed:    2.1s\n",
      "[Parallel(n_jobs=12)]: Done 100 out of 100 | elapsed:    9.1s finished\n",
      "[Parallel(n_jobs=12)]: Using backend ThreadingBackend with 12 concurrent workers.\n",
      "[Parallel(n_jobs=12)]: Done   8 tasks      | elapsed:    1.5s\n",
      "[Parallel(n_jobs=12)]: Done  44 out of  50 | elapsed:    5.4s remaining:    0.7s\n",
      "[Parallel(n_jobs=12)]: Done  50 out of  50 | elapsed:    5.7s finished\n"
     ]
    }
   ],
   "source": [
    "# Predicted values (y_hat)\n",
    "yhat_pca = rfr_pca.predict(X_test_pca) # with PCA\n",
    "yhat = rfr.predict(X_test) # with KFold"
   ]
  },
  {
   "cell_type": "markdown",
   "metadata": {},
   "source": [
    "**4.2 Calculate r2 scores**"
   ]
  },
  {
   "cell_type": "code",
   "execution_count": 19,
   "metadata": {},
   "outputs": [
    {
     "name": "stdout",
     "output_type": "stream",
     "text": [
      "R2 score_model 1: 0.995887606139946 (KFold + RFR)\n",
      "R2 score_model 2: 0.9425249113327822 (PCA + RFR)\n"
     ]
    }
   ],
   "source": [
    "# Print r2 score\n",
    "print('R2 score_model 1:', r2_score(y_test,yhat), '(KFold + RFR)')\n",
    "print('R2 score_model 2:', r2_score(y_test,yhat_pca), '(PCA + RFR)')"
   ]
  },
  {
   "cell_type": "markdown",
   "metadata": {},
   "source": [
    "**4.3 Calculate MAE (mean absolute error)**"
   ]
  },
  {
   "cell_type": "code",
   "execution_count": 20,
   "metadata": {},
   "outputs": [
    {
     "name": "stdout",
     "output_type": "stream",
     "text": [
      "MAE_model 1: 11.2 kW/3h\n",
      "MAE_model 2: 56.93 kW/3h\n"
     ]
    }
   ],
   "source": [
    "# Calculate absolute errors\n",
    "errors_pca = abs(yhat_pca - y_test)\n",
    "errors = abs(yhat - y_test)\n",
    "# Print mean absolute error (MAE) - units: kW/3h\n",
    "print('MAE_model 1:', round(np.mean(errors), 2), 'kW/3h')\n",
    "print('MAE_model 2:', round(np.mean(errors_pca), 2), 'kW/3h')"
   ]
  },
  {
   "cell_type": "markdown",
   "metadata": {},
   "source": [
    "### 5) True vs Predicted\n",
    "    - 5.1 Create dataframe with True and Predicted values \n",
    "    - 5.2 Mean of positive P_3h values\n",
    "    - 5.3 Scatter plot: true vs predicted"
   ]
  },
  {
   "cell_type": "markdown",
   "metadata": {},
   "source": [
    "**5.1 Create dataframe with True and Predicted values**"
   ]
  },
  {
   "cell_type": "code",
   "execution_count": 21,
   "metadata": {},
   "outputs": [],
   "source": [
    "df_solutions_pca = pd.DataFrame({'True (y_test)' : np.array(y_test), 'Predicted (y_hat)' : np.array(yhat_pca)})"
   ]
  },
  {
   "cell_type": "code",
   "execution_count": 22,
   "metadata": {
    "scrolled": true
   },
   "outputs": [
    {
     "data": {
      "text/html": [
       "<div>\n",
       "<style scoped>\n",
       "    .dataframe tbody tr th:only-of-type {\n",
       "        vertical-align: middle;\n",
       "    }\n",
       "\n",
       "    .dataframe tbody tr th {\n",
       "        vertical-align: top;\n",
       "    }\n",
       "\n",
       "    .dataframe thead th {\n",
       "        text-align: right;\n",
       "    }\n",
       "</style>\n",
       "<table border=\"1\" class=\"dataframe\">\n",
       "  <thead>\n",
       "    <tr style=\"text-align: right;\">\n",
       "      <th></th>\n",
       "      <th>True (y_test)</th>\n",
       "      <th>Predicted (y_hat)</th>\n",
       "    </tr>\n",
       "  </thead>\n",
       "  <tbody>\n",
       "    <tr>\n",
       "      <th>0</th>\n",
       "      <td>756.520002</td>\n",
       "      <td>762.788122</td>\n",
       "    </tr>\n",
       "    <tr>\n",
       "      <th>1</th>\n",
       "      <td>1010.643149</td>\n",
       "      <td>766.766794</td>\n",
       "    </tr>\n",
       "    <tr>\n",
       "      <th>2</th>\n",
       "      <td>93.974210</td>\n",
       "      <td>69.244121</td>\n",
       "    </tr>\n",
       "    <tr>\n",
       "      <th>3</th>\n",
       "      <td>476.890000</td>\n",
       "      <td>543.677426</td>\n",
       "    </tr>\n",
       "    <tr>\n",
       "      <th>4</th>\n",
       "      <td>548.897894</td>\n",
       "      <td>521.200663</td>\n",
       "    </tr>\n",
       "  </tbody>\n",
       "</table>\n",
       "</div>"
      ],
      "text/plain": [
       "   True (y_test)  Predicted (y_hat)\n",
       "0     756.520002         762.788122\n",
       "1    1010.643149         766.766794\n",
       "2      93.974210          69.244121\n",
       "3     476.890000         543.677426\n",
       "4     548.897894         521.200663"
      ]
     },
     "execution_count": 22,
     "metadata": {},
     "output_type": "execute_result"
    }
   ],
   "source": [
    "df_solutions_pca.head()"
   ]
  },
  {
   "cell_type": "code",
   "execution_count": 23,
   "metadata": {},
   "outputs": [],
   "source": [
    "df_solutions_kfold = pd.DataFrame({'True (y_test)' : np.array(y_test), 'Predicted (y_hat)' : np.array(yhat)})"
   ]
  },
  {
   "cell_type": "code",
   "execution_count": 24,
   "metadata": {},
   "outputs": [
    {
     "data": {
      "text/html": [
       "<div>\n",
       "<style scoped>\n",
       "    .dataframe tbody tr th:only-of-type {\n",
       "        vertical-align: middle;\n",
       "    }\n",
       "\n",
       "    .dataframe tbody tr th {\n",
       "        vertical-align: top;\n",
       "    }\n",
       "\n",
       "    .dataframe thead th {\n",
       "        text-align: right;\n",
       "    }\n",
       "</style>\n",
       "<table border=\"1\" class=\"dataframe\">\n",
       "  <thead>\n",
       "    <tr style=\"text-align: right;\">\n",
       "      <th></th>\n",
       "      <th>True (y_test)</th>\n",
       "      <th>Predicted (y_hat)</th>\n",
       "    </tr>\n",
       "  </thead>\n",
       "  <tbody>\n",
       "    <tr>\n",
       "      <th>0</th>\n",
       "      <td>756.520002</td>\n",
       "      <td>742.245906</td>\n",
       "    </tr>\n",
       "    <tr>\n",
       "      <th>1</th>\n",
       "      <td>1010.643149</td>\n",
       "      <td>1014.199897</td>\n",
       "    </tr>\n",
       "    <tr>\n",
       "      <th>2</th>\n",
       "      <td>93.974210</td>\n",
       "      <td>92.852800</td>\n",
       "    </tr>\n",
       "    <tr>\n",
       "      <th>3</th>\n",
       "      <td>476.890000</td>\n",
       "      <td>484.932432</td>\n",
       "    </tr>\n",
       "    <tr>\n",
       "      <th>4</th>\n",
       "      <td>548.897894</td>\n",
       "      <td>553.279653</td>\n",
       "    </tr>\n",
       "  </tbody>\n",
       "</table>\n",
       "</div>"
      ],
      "text/plain": [
       "   True (y_test)  Predicted (y_hat)\n",
       "0     756.520002         742.245906\n",
       "1    1010.643149        1014.199897\n",
       "2      93.974210          92.852800\n",
       "3     476.890000         484.932432\n",
       "4     548.897894         553.279653"
      ]
     },
     "execution_count": 24,
     "metadata": {},
     "output_type": "execute_result"
    }
   ],
   "source": [
    "df_solutions_kfold.head()"
   ]
  },
  {
   "cell_type": "markdown",
   "metadata": {},
   "source": [
    "**5.2 Mean of positive P_3h values**"
   ]
  },
  {
   "cell_type": "code",
   "execution_count": 25,
   "metadata": {},
   "outputs": [],
   "source": [
    "# Extract positive values to calculate the mean while the turbines are working\n",
    "positive_values= df_solutions_pca[df_solutions_pca['True (y_test)'] > 0]"
   ]
  },
  {
   "cell_type": "code",
   "execution_count": 26,
   "metadata": {},
   "outputs": [
    {
     "data": {
      "text/plain": [
       "381.70446823298585"
      ]
     },
     "execution_count": 26,
     "metadata": {},
     "output_type": "execute_result"
    }
   ],
   "source": [
    "# Mean values of P_3h  \n",
    "positive_values['True (y_test)'].mean()"
   ]
  },
  {
   "cell_type": "markdown",
   "metadata": {},
   "source": [
    "**5.3 Scatter plots: true vs predicted**"
   ]
  },
  {
   "cell_type": "code",
   "execution_count": 27,
   "metadata": {},
   "outputs": [
    {
     "data": {
      "image/png": "[encoded data removed]",
      "text/plain": [
       "<Figure size 864x432 with 1 Axes>"
      ]
     },
     "metadata": {},
     "output_type": "display_data"
    },
    {
     "data": {
      "image/png": "[encoded data removed]",
      "text/plain": [
       "<Figure size 864x432 with 1 Axes>"
      ]
     },
     "metadata": {},
     "output_type": "display_data"
    }
   ],
   "source": [
    "# Scatter plot of True vs Predicted; to visualize the fitting\n",
    "list_yhats = [yhat_pca, yhat]\n",
    "title_list = ['True vs Predicted. 4 turbines RFR with PCA', 'True vs Predicted. 4 turbines RFR with KFold']\n",
    "list_x = [df_solutions_pca, df_solutions_kfold]\n",
    "for i, j, k in zip (list_yhats, title_list, list_x):\n",
    "    fig, ax = plt.subplots()\n",
    "    ax.scatter(y_test, i, alpha= 0.4)\n",
    "    x = k['True (y_test)']\n",
    "    y = x*0.99\n",
    "    ax.plot([y.min(), y.max()], [y.min(), y.max()], 'k--', lw=4)\n",
    "    plt.scatter(x, y - np.std(y),marker='_' , c='w', lw=0.040)\n",
    "    plt.scatter(x, y + np.std(y),marker='_' , c='w', lw=0.040)\n",
    "    plt.title(j, fontsize=18)\n",
    "    plt.xlabel('True (y_test)', fontsize=18)\n",
    "    plt.ylabel('Predicted', fontsize=18)\n",
    "    fig.set_size_inches(12, 6)"
   ]
  },
  {
   "cell_type": "markdown",
   "metadata": {},
   "source": [
    "### 6) Feature Importance"
   ]
  },
  {
   "cell_type": "code",
   "execution_count": 28,
   "metadata": {},
   "outputs": [
    {
     "name": "stdout",
     "output_type": "stream",
     "text": [
      "Variable: Rs_avg_1h            Importance: 0.68\n",
      "Variable: Rs_avg_6h            Importance: 0.16\n",
      "Variable: Ba_avg_3h            Importance: 0.1\n",
      "Variable: Ba_avg_1h            Importance: 0.04\n",
      "Variable: Yt_avg_3h            Importance: 0.01\n",
      "Variable: Gb1t_avg_3h          Importance: 0.01\n",
      "Variable: pr_3h                Importance: 0.0\n",
      "Variable: Hum                  Importance: 0.0\n",
      "Variable: Vis_hor              Importance: 0.0\n",
      "Variable: pr_st                Importance: 0.0\n",
      "Variable: W_blast              Importance: 0.0\n",
      "Variable: Rain_1h              Importance: 0.0\n",
      "Variable: Rain_3h              Importance: 0.0\n",
      "Variable: Ba_avg               Importance: 0.0\n",
      "Variable: Q_avg                Importance: 0.0\n",
      "Variable: Q_min                Importance: 0.0\n",
      "Variable: Q_max                Importance: 0.0\n",
      "Variable: Q_std                Importance: 0.0\n",
      "Variable: Dst_avg              Importance: 0.0\n",
      "Variable: Gb1t_avg             Importance: 0.0\n",
      "Variable: Git_avg              Importance: 0.0\n",
      "Variable: Gost_avg             Importance: 0.0\n",
      "Variable: Yt_avg               Importance: 0.0\n",
      "Variable: Ws1_std              Importance: 0.0\n",
      "Variable: Ws2_std              Importance: 0.0\n",
      "Variable: Ws_avg               Importance: 0.0\n",
      "Variable: Ws_min               Importance: 0.0\n",
      "Variable: Wa_avg               Importance: 0.0\n",
      "Variable: Ot_avg               Importance: 0.0\n",
      "Variable: Rs_avg               Importance: 0.0\n",
      "Variable: Rbt_avg              Importance: 0.0\n",
      "Variable: Yt_avg_1h            Importance: 0.0\n",
      "Variable: Gost_avg_6h          Importance: 0.0\n",
      "Variable: Wa_avg_1h            Importance: 0.0\n",
      "Variable: Wa_avg_3h            Importance: 0.0\n",
      "Variable: Ba_avg_6h            Importance: 0.0\n",
      "Variable: TI                   Importance: 0.0\n",
      "Variable: year                 Importance: 0.0\n",
      "Variable: Jan                  Importance: 0.0\n",
      "Variable: Feb                  Importance: 0.0\n",
      "Variable: Mar                  Importance: 0.0\n",
      "Variable: Apr                  Importance: 0.0\n",
      "Variable: May                  Importance: 0.0\n",
      "Variable: Jun                  Importance: 0.0\n",
      "Variable: Jul                  Importance: 0.0\n",
      "Variable: Aug                  Importance: 0.0\n",
      "Variable: Sept                 Importance: 0.0\n",
      "Variable: Oct                  Importance: 0.0\n",
      "Variable: Nov                  Importance: 0.0\n",
      "Variable: Dec                  Importance: 0.0\n"
     ]
    }
   ],
   "source": [
    "# Select all features; not the target! \n",
    "features = df.iloc[:,:-1]\n",
    "\n",
    "feature_importance_list= []\n",
    "# Make list of features\n",
    "feature_list= features.columns\n",
    "# Get numerical feature importances \n",
    "importances = list(rfr.feature_importances_)\n",
    "# List of tuples with variable and importance\n",
    "feature_importances = [(feature, round(importance, 2)) \n",
    "for feature, importance in zip(feature_list, importances)]\n",
    "# Sort the feature importances by most important first \n",
    "feature_importances = sorted(feature_importances, key = lambda x: x[1], reverse = True)\n",
    "# Append to a list\n",
    "feature_importance_list.append(feature_importances)\n",
    "# Print out the feature and importances\n",
    "[print('Variable: {:20} Importance: {}'.format(*pair)) for pair in feature_importances];"
   ]
  },
  {
   "cell_type": "code",
   "execution_count": 29,
   "metadata": {},
   "outputs": [],
   "source": [
    "# Access variable name & percentage\n",
    "list_import= []\n",
    "for i in feature_importance_list:\n",
    "    for j in i:\n",
    "        for k in j:\n",
    "            list_import.append(k)"
   ]
  },
  {
   "cell_type": "code",
   "execution_count": 30,
   "metadata": {},
   "outputs": [],
   "source": [
    "# Function to convert list to dictionary\n",
    "def Convert(lst):\n",
    "    res_dct = {lst[i]: lst[i + 1] for i in range(0, len(lst), 2)}\n",
    "    return res_dct"
   ]
  },
  {
   "cell_type": "code",
   "execution_count": 31,
   "metadata": {},
   "outputs": [],
   "source": [
    "dictionary= Convert(list_import)"
   ]
  },
  {
   "cell_type": "code",
   "execution_count": 32,
   "metadata": {},
   "outputs": [],
   "source": [
    "# Convert dictionary to df\n",
    "df_importance_var = pd.DataFrame([[key, dictionary[key]] for key in dictionary.keys()], \n",
    "                                 columns= ['variable', 'importance (%)'])\n"
   ]
  },
  {
   "cell_type": "code",
   "execution_count": 33,
   "metadata": {},
   "outputs": [
    {
     "data": {
      "text/html": [
       "<div>\n",
       "<style scoped>\n",
       "    .dataframe tbody tr th:only-of-type {\n",
       "        vertical-align: middle;\n",
       "    }\n",
       "\n",
       "    .dataframe tbody tr th {\n",
       "        vertical-align: top;\n",
       "    }\n",
       "\n",
       "    .dataframe thead th {\n",
       "        text-align: right;\n",
       "    }\n",
       "</style>\n",
       "<table border=\"1\" class=\"dataframe\">\n",
       "  <thead>\n",
       "    <tr style=\"text-align: right;\">\n",
       "      <th></th>\n",
       "      <th>variable</th>\n",
       "      <th>importance (%)</th>\n",
       "    </tr>\n",
       "  </thead>\n",
       "  <tbody>\n",
       "    <tr>\n",
       "      <th>0</th>\n",
       "      <td>Rs_avg_1h</td>\n",
       "      <td>0.68</td>\n",
       "    </tr>\n",
       "    <tr>\n",
       "      <th>1</th>\n",
       "      <td>Rs_avg_6h</td>\n",
       "      <td>0.16</td>\n",
       "    </tr>\n",
       "    <tr>\n",
       "      <th>2</th>\n",
       "      <td>Ba_avg_3h</td>\n",
       "      <td>0.10</td>\n",
       "    </tr>\n",
       "    <tr>\n",
       "      <th>3</th>\n",
       "      <td>Ba_avg_1h</td>\n",
       "      <td>0.04</td>\n",
       "    </tr>\n",
       "    <tr>\n",
       "      <th>4</th>\n",
       "      <td>Yt_avg_3h</td>\n",
       "      <td>0.01</td>\n",
       "    </tr>\n",
       "    <tr>\n",
       "      <th>5</th>\n",
       "      <td>Gb1t_avg_3h</td>\n",
       "      <td>0.01</td>\n",
       "    </tr>\n",
       "    <tr>\n",
       "      <th>6</th>\n",
       "      <td>pr_3h</td>\n",
       "      <td>0.00</td>\n",
       "    </tr>\n",
       "    <tr>\n",
       "      <th>7</th>\n",
       "      <td>Hum</td>\n",
       "      <td>0.00</td>\n",
       "    </tr>\n",
       "    <tr>\n",
       "      <th>8</th>\n",
       "      <td>Vis_hor</td>\n",
       "      <td>0.00</td>\n",
       "    </tr>\n",
       "    <tr>\n",
       "      <th>9</th>\n",
       "      <td>pr_st</td>\n",
       "      <td>0.00</td>\n",
       "    </tr>\n",
       "  </tbody>\n",
       "</table>\n",
       "</div>"
      ],
      "text/plain": [
       "      variable  importance (%)\n",
       "0    Rs_avg_1h            0.68\n",
       "1    Rs_avg_6h            0.16\n",
       "2    Ba_avg_3h            0.10\n",
       "3    Ba_avg_1h            0.04\n",
       "4    Yt_avg_3h            0.01\n",
       "5  Gb1t_avg_3h            0.01\n",
       "6        pr_3h            0.00\n",
       "7          Hum            0.00\n",
       "8      Vis_hor            0.00\n",
       "9        pr_st            0.00"
      ]
     },
     "execution_count": 33,
     "metadata": {},
     "output_type": "execute_result"
    }
   ],
   "source": [
    "df_importance_var.head(10)"
   ]
  },
  {
   "cell_type": "code",
   "execution_count": 34,
   "metadata": {},
   "outputs": [
    {
     "data": {
      "text/plain": [
       "<Figure size 1080x1080 with 0 Axes>"
      ]
     },
     "execution_count": 34,
     "metadata": {},
     "output_type": "execute_result"
    },
    {
     "data": {
      "image/png": "[encoded data removed]",
      "text/plain": [
       "<Figure size 460.8x403.2 with 1 Axes>"
      ]
     },
     "metadata": {},
     "output_type": "display_data"
    },
    {
     "data": {
      "text/plain": [
       "<Figure size 1080x1080 with 0 Axes>"
      ]
     },
     "metadata": {},
     "output_type": "display_data"
    }
   ],
   "source": [
    "# Feature importance of 15 variables\n",
    "ax = sns.barplot(x=\"variable\", y=\"importance (%)\", orient= 'v', data=df_importance_var.iloc[:15,:])\n",
    "for item in ax.get_xticklabels():\n",
    "    item.set_rotation(45)\n",
    "plt.title('Feature Importance')\n",
    "plt.figure(figsize=(15,15))\n"
   ]
  }
 ],
 "metadata": {
  "kernelspec": {
   "display_name": "Python 3",
   "language": "python",
   "name": "python3"
  },
  "language_info": {
   "codemirror_mode": {
    "name": "ipython",
    "version": 3
   },
   "file_extension": ".py",
   "mimetype": "text/x-python",
   "name": "python",
   "nbconvert_exporter": "python",
   "pygments_lexer": "ipython3",
   "version": "3.8.3"
  }
 },
 "nbformat": 4,
 "nbformat_minor": 4
}
