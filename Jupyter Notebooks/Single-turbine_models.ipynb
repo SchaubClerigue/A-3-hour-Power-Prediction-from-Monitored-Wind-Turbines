{
 "cells": [
  {
   "cell_type": "markdown",
   "metadata": {},
   "source": [
    "#  Modelling:\n",
    "\n",
    "\n",
    "\n",
    "**- Model 1: KFold + Random Forest Regressor**\n",
    "\n",
    "**- Model 2: train_test_split + PCA + Random Forest Regressor**\n",
    "\n"
   ]
  },
  {
   "cell_type": "code",
   "execution_count": 1,
   "metadata": {},
   "outputs": [],
   "source": [
    "# Basics\n",
    "import pandas as pd\n",
    "import numpy as np\n",
    "\n",
    "# Visualization\n",
    "import seaborn as sns\n",
    "import matplotlib.pyplot as plt\n",
    "from jupyterthemes import jtplot # plot with monokai theme\n",
    "jtplot.style(theme='monokai')\n",
    "\n",
    "# Modelling\n",
    "from sklearn import neighbors\n",
    "from sklearn.ensemble import RandomForestRegressor\n",
    "from sklearn.datasets import make_regression\n",
    "from sklearn.model_selection import train_test_split\n",
    "from sklearn.decomposition import PCA \n",
    "from sklearn.model_selection import cross_val_score\n",
    "from sklearn.metrics import  r2_score\n",
    "from sklearn.model_selection import KFold"
   ]
  },
  {
   "cell_type": "markdown",
   "metadata": {},
   "source": [
    "### 1) Load processed data for modelling"
   ]
  },
  {
   "cell_type": "code",
   "execution_count": 2,
   "metadata": {},
   "outputs": [
    {
     "data": {
      "text/plain": [
       "(250124, 51)"
      ]
     },
     "execution_count": 2,
     "metadata": {},
     "output_type": "execute_result"
    }
   ],
   "source": [
    "# Windfarm's data: 1 turbine\n",
    "df = pd.read_csv('Turb11_Model.csv')\n",
    "df.shape"
   ]
  },
  {
   "cell_type": "code",
   "execution_count": 3,
   "metadata": {},
   "outputs": [
    {
     "data": {
      "text/plain": [
       "(250124, 2)"
      ]
     },
     "execution_count": 3,
     "metadata": {},
     "output_type": "execute_result"
    }
   ],
   "source": [
    "# Target  \n",
    "P_3h = pd.read_csv('P_3h_Turb11.csv')\n",
    "P_3h.shape"
   ]
  },
  {
   "cell_type": "code",
   "execution_count": 4,
   "metadata": {},
   "outputs": [],
   "source": [
    "# Make a copy from our target's dataframe\n",
    "P_3h_model2 = P_3h.copy()"
   ]
  },
  {
   "cell_type": "code",
   "execution_count": 5,
   "metadata": {},
   "outputs": [],
   "source": [
    "# Delete datetime and 'Unnamed' cols\n",
    "del df['Unnamed: 0']\n",
    "del P_3h['datetime']"
   ]
  },
  {
   "cell_type": "code",
   "execution_count": 6,
   "metadata": {},
   "outputs": [],
   "source": [
    "# Convert P_3h['P_3h'] to float\n",
    "P_3h['P_3h'] = P_3h['P_3h'].astype(float)"
   ]
  },
  {
   "cell_type": "code",
   "execution_count": 7,
   "metadata": {},
   "outputs": [],
   "source": [
    "# Add P_3h['P_3h'] to our df\n",
    "df['P_3h'] = P_3h['P_3h']"
   ]
  },
  {
   "cell_type": "code",
   "execution_count": 8,
   "metadata": {},
   "outputs": [
    {
     "data": {
      "text/html": [
       "<div>\n",
       "<style scoped>\n",
       "    .dataframe tbody tr th:only-of-type {\n",
       "        vertical-align: middle;\n",
       "    }\n",
       "\n",
       "    .dataframe tbody tr th {\n",
       "        vertical-align: top;\n",
       "    }\n",
       "\n",
       "    .dataframe thead th {\n",
       "        text-align: right;\n",
       "    }\n",
       "</style>\n",
       "<table border=\"1\" class=\"dataframe\">\n",
       "  <thead>\n",
       "    <tr style=\"text-align: right;\">\n",
       "      <th></th>\n",
       "      <th>pr_3h</th>\n",
       "      <th>Hum</th>\n",
       "      <th>Vis_hor</th>\n",
       "      <th>pr_st</th>\n",
       "      <th>W_blast</th>\n",
       "      <th>Rain_1h</th>\n",
       "      <th>Rain_3h</th>\n",
       "      <th>Ba_avg</th>\n",
       "      <th>Q_avg</th>\n",
       "      <th>Q_min</th>\n",
       "      <th>Q_max</th>\n",
       "      <th>Q_std</th>\n",
       "      <th>Dst_avg</th>\n",
       "      <th>Gb1t_avg</th>\n",
       "      <th>Git_avg</th>\n",
       "      <th>Gost_avg</th>\n",
       "      <th>Yt_avg</th>\n",
       "      <th>Ws1_std</th>\n",
       "      <th>Ws2_std</th>\n",
       "      <th>Ws_avg</th>\n",
       "      <th>Ws_min</th>\n",
       "      <th>Wa_avg</th>\n",
       "      <th>Ot_avg</th>\n",
       "      <th>Rs_avg</th>\n",
       "      <th>Rbt_avg</th>\n",
       "      <th>Yt_avg_1h</th>\n",
       "      <th>Yt_avg_3h</th>\n",
       "      <th>Rs_avg_1h</th>\n",
       "      <th>Rs_avg_6h</th>\n",
       "      <th>Gb1t_avg_3h</th>\n",
       "      <th>Gost_avg_6h</th>\n",
       "      <th>Wa_avg_1h</th>\n",
       "      <th>Wa_avg_3h</th>\n",
       "      <th>Ba_avg_1h</th>\n",
       "      <th>Ba_avg_3h</th>\n",
       "      <th>Ba_avg_6h</th>\n",
       "      <th>TI</th>\n",
       "      <th>year</th>\n",
       "      <th>Jan</th>\n",
       "      <th>Feb</th>\n",
       "      <th>Mar</th>\n",
       "      <th>Apr</th>\n",
       "      <th>May</th>\n",
       "      <th>Jun</th>\n",
       "      <th>Jul</th>\n",
       "      <th>Aug</th>\n",
       "      <th>Sept</th>\n",
       "      <th>Oct</th>\n",
       "      <th>Nov</th>\n",
       "      <th>Dec</th>\n",
       "      <th>P_3h</th>\n",
       "    </tr>\n",
       "  </thead>\n",
       "  <tbody>\n",
       "    <tr>\n",
       "      <th>0</th>\n",
       "      <td>1.830561</td>\n",
       "      <td>0.426620</td>\n",
       "      <td>-0.344222</td>\n",
       "      <td>0.188511</td>\n",
       "      <td>-0.488831</td>\n",
       "      <td>-0.249369</td>\n",
       "      <td>-0.308256</td>\n",
       "      <td>-0.423531</td>\n",
       "      <td>0.121381</td>\n",
       "      <td>0.217100</td>\n",
       "      <td>0.182151</td>\n",
       "      <td>0.278744</td>\n",
       "      <td>0.574858</td>\n",
       "      <td>-0.100872</td>\n",
       "      <td>0.632286</td>\n",
       "      <td>0.376578</td>\n",
       "      <td>-1.737731</td>\n",
       "      <td>-0.496315</td>\n",
       "      <td>-0.409871</td>\n",
       "      <td>-0.577004</td>\n",
       "      <td>-0.520623</td>\n",
       "      <td>0.673374</td>\n",
       "      <td>-1.257992</td>\n",
       "      <td>-0.316649</td>\n",
       "      <td>-0.365961</td>\n",
       "      <td>-0.596207</td>\n",
       "      <td>-0.580934</td>\n",
       "      <td>-0.100055</td>\n",
       "      <td>0.719170</td>\n",
       "      <td>0.368887</td>\n",
       "      <td>0.386968</td>\n",
       "      <td>0.567983</td>\n",
       "      <td>0.564711</td>\n",
       "      <td>-0.462081</td>\n",
       "      <td>-0.496148</td>\n",
       "      <td>-0.531200</td>\n",
       "      <td>-0.102166</td>\n",
       "      <td>-1.415811</td>\n",
       "      <td>3.186269</td>\n",
       "      <td>-0.289833</td>\n",
       "      <td>-0.305137</td>\n",
       "      <td>-0.299648</td>\n",
       "      <td>-0.302019</td>\n",
       "      <td>-0.294941</td>\n",
       "      <td>-0.303859</td>\n",
       "      <td>-0.304745</td>\n",
       "      <td>-0.298823</td>\n",
       "      <td>-0.304847</td>\n",
       "      <td>-0.294243</td>\n",
       "      <td>-0.305692</td>\n",
       "      <td>340.419474</td>\n",
       "    </tr>\n",
       "    <tr>\n",
       "      <th>1</th>\n",
       "      <td>1.849694</td>\n",
       "      <td>0.430229</td>\n",
       "      <td>-0.362820</td>\n",
       "      <td>0.202214</td>\n",
       "      <td>-0.465161</td>\n",
       "      <td>-0.249369</td>\n",
       "      <td>-0.308256</td>\n",
       "      <td>-0.425287</td>\n",
       "      <td>0.621059</td>\n",
       "      <td>0.904185</td>\n",
       "      <td>0.824877</td>\n",
       "      <td>0.142120</td>\n",
       "      <td>0.196272</td>\n",
       "      <td>-0.193566</td>\n",
       "      <td>0.493536</td>\n",
       "      <td>0.314220</td>\n",
       "      <td>-1.501557</td>\n",
       "      <td>-0.403675</td>\n",
       "      <td>-0.261742</td>\n",
       "      <td>-0.585143</td>\n",
       "      <td>-0.603902</td>\n",
       "      <td>0.652651</td>\n",
       "      <td>-1.264511</td>\n",
       "      <td>-0.325853</td>\n",
       "      <td>-0.420154</td>\n",
       "      <td>-0.697260</td>\n",
       "      <td>-0.661860</td>\n",
       "      <td>-0.160386</td>\n",
       "      <td>0.694337</td>\n",
       "      <td>0.326433</td>\n",
       "      <td>0.391126</td>\n",
       "      <td>0.602587</td>\n",
       "      <td>0.570227</td>\n",
       "      <td>-0.459052</td>\n",
       "      <td>-0.494972</td>\n",
       "      <td>-0.530560</td>\n",
       "      <td>-0.013097</td>\n",
       "      <td>-1.415811</td>\n",
       "      <td>3.186269</td>\n",
       "      <td>-0.289833</td>\n",
       "      <td>-0.305137</td>\n",
       "      <td>-0.299648</td>\n",
       "      <td>-0.302019</td>\n",
       "      <td>-0.294941</td>\n",
       "      <td>-0.303859</td>\n",
       "      <td>-0.304745</td>\n",
       "      <td>-0.298823</td>\n",
       "      <td>-0.304847</td>\n",
       "      <td>-0.294243</td>\n",
       "      <td>-0.305692</td>\n",
       "      <td>316.015263</td>\n",
       "    </tr>\n",
       "    <tr>\n",
       "      <th>2</th>\n",
       "      <td>1.868826</td>\n",
       "      <td>0.433838</td>\n",
       "      <td>-0.381418</td>\n",
       "      <td>0.215918</td>\n",
       "      <td>-0.441491</td>\n",
       "      <td>-0.249369</td>\n",
       "      <td>-0.308256</td>\n",
       "      <td>-0.401144</td>\n",
       "      <td>0.922654</td>\n",
       "      <td>0.203509</td>\n",
       "      <td>0.464584</td>\n",
       "      <td>0.052724</td>\n",
       "      <td>0.082697</td>\n",
       "      <td>-0.222935</td>\n",
       "      <td>0.440073</td>\n",
       "      <td>0.275745</td>\n",
       "      <td>-0.706023</td>\n",
       "      <td>0.244807</td>\n",
       "      <td>-0.039549</td>\n",
       "      <td>-0.784538</td>\n",
       "      <td>-1.353417</td>\n",
       "      <td>0.802026</td>\n",
       "      <td>-1.257992</td>\n",
       "      <td>-0.340580</td>\n",
       "      <td>-0.435103</td>\n",
       "      <td>-0.754790</td>\n",
       "      <td>-0.705931</td>\n",
       "      <td>-0.230230</td>\n",
       "      <td>0.669116</td>\n",
       "      <td>0.278815</td>\n",
       "      <td>0.395947</td>\n",
       "      <td>0.661274</td>\n",
       "      <td>0.586462</td>\n",
       "      <td>-0.452402</td>\n",
       "      <td>-0.492391</td>\n",
       "      <td>-0.529155</td>\n",
       "      <td>0.506538</td>\n",
       "      <td>-1.415811</td>\n",
       "      <td>3.186269</td>\n",
       "      <td>-0.289833</td>\n",
       "      <td>-0.305137</td>\n",
       "      <td>-0.299648</td>\n",
       "      <td>-0.302019</td>\n",
       "      <td>-0.294941</td>\n",
       "      <td>-0.303859</td>\n",
       "      <td>-0.304745</td>\n",
       "      <td>-0.298823</td>\n",
       "      <td>-0.304847</td>\n",
       "      <td>-0.294243</td>\n",
       "      <td>-0.305692</td>\n",
       "      <td>288.485788</td>\n",
       "    </tr>\n",
       "    <tr>\n",
       "      <th>3</th>\n",
       "      <td>1.887959</td>\n",
       "      <td>0.437447</td>\n",
       "      <td>-0.400016</td>\n",
       "      <td>0.229621</td>\n",
       "      <td>-0.417821</td>\n",
       "      <td>-0.249369</td>\n",
       "      <td>-0.308256</td>\n",
       "      <td>0.416225</td>\n",
       "      <td>1.594215</td>\n",
       "      <td>-1.321668</td>\n",
       "      <td>3.301893</td>\n",
       "      <td>5.844912</td>\n",
       "      <td>0.188911</td>\n",
       "      <td>-0.338573</td>\n",
       "      <td>0.392974</td>\n",
       "      <td>0.231962</td>\n",
       "      <td>-0.424790</td>\n",
       "      <td>0.870128</td>\n",
       "      <td>-0.582689</td>\n",
       "      <td>-1.256576</td>\n",
       "      <td>-1.786469</td>\n",
       "      <td>0.735018</td>\n",
       "      <td>-1.239737</td>\n",
       "      <td>-0.933321</td>\n",
       "      <td>-0.450053</td>\n",
       "      <td>-0.805316</td>\n",
       "      <td>-0.738887</td>\n",
       "      <td>-0.373177</td>\n",
       "      <td>0.627858</td>\n",
       "      <td>0.226530</td>\n",
       "      <td>0.393923</td>\n",
       "      <td>0.706061</td>\n",
       "      <td>0.599664</td>\n",
       "      <td>-0.323147</td>\n",
       "      <td>-0.442230</td>\n",
       "      <td>-0.501848</td>\n",
       "      <td>1.029438</td>\n",
       "      <td>-1.415811</td>\n",
       "      <td>3.186269</td>\n",
       "      <td>-0.289833</td>\n",
       "      <td>-0.305137</td>\n",
       "      <td>-0.299648</td>\n",
       "      <td>-0.302019</td>\n",
       "      <td>-0.294941</td>\n",
       "      <td>-0.303859</td>\n",
       "      <td>-0.304745</td>\n",
       "      <td>-0.298823</td>\n",
       "      <td>-0.304847</td>\n",
       "      <td>-0.294243</td>\n",
       "      <td>-0.305692</td>\n",
       "      <td>263.388947</td>\n",
       "    </tr>\n",
       "    <tr>\n",
       "      <th>4</th>\n",
       "      <td>1.907092</td>\n",
       "      <td>0.441055</td>\n",
       "      <td>-0.418614</td>\n",
       "      <td>0.243324</td>\n",
       "      <td>-0.394151</td>\n",
       "      <td>-0.249369</td>\n",
       "      <td>-0.308256</td>\n",
       "      <td>1.573359</td>\n",
       "      <td>-0.913117</td>\n",
       "      <td>-0.053959</td>\n",
       "      <td>-1.030786</td>\n",
       "      <td>-0.900271</td>\n",
       "      <td>0.162620</td>\n",
       "      <td>-0.592793</td>\n",
       "      <td>0.246587</td>\n",
       "      <td>0.161644</td>\n",
       "      <td>-0.230568</td>\n",
       "      <td>-0.635276</td>\n",
       "      <td>-0.681441</td>\n",
       "      <td>-1.374586</td>\n",
       "      <td>-1.353417</td>\n",
       "      <td>0.660225</td>\n",
       "      <td>-1.225395</td>\n",
       "      <td>-1.842682</td>\n",
       "      <td>-0.498639</td>\n",
       "      <td>-0.843336</td>\n",
       "      <td>-0.718607</td>\n",
       "      <td>-0.619123</td>\n",
       "      <td>0.557204</td>\n",
       "      <td>0.158803</td>\n",
       "      <td>0.387078</td>\n",
       "      <td>0.719237</td>\n",
       "      <td>0.609316</td>\n",
       "      <td>-0.020390</td>\n",
       "      <td>-0.324711</td>\n",
       "      <td>-0.437872</td>\n",
       "      <td>0.518113</td>\n",
       "      <td>-1.415811</td>\n",
       "      <td>3.186269</td>\n",
       "      <td>-0.289833</td>\n",
       "      <td>-0.305137</td>\n",
       "      <td>-0.299648</td>\n",
       "      <td>-0.302019</td>\n",
       "      <td>-0.294941</td>\n",
       "      <td>-0.303859</td>\n",
       "      <td>-0.304745</td>\n",
       "      <td>-0.298823</td>\n",
       "      <td>-0.304847</td>\n",
       "      <td>-0.294243</td>\n",
       "      <td>-0.305692</td>\n",
       "      <td>234.953157</td>\n",
       "    </tr>\n",
       "  </tbody>\n",
       "</table>\n",
       "</div>"
      ],
      "text/plain": [
       "      pr_3h       Hum   Vis_hor     pr_st   W_blast   Rain_1h   Rain_3h  \\\n",
       "0  1.830561  0.426620 -0.344222  0.188511 -0.488831 -0.249369 -0.308256   \n",
       "1  1.849694  0.430229 -0.362820  0.202214 -0.465161 -0.249369 -0.308256   \n",
       "2  1.868826  0.433838 -0.381418  0.215918 -0.441491 -0.249369 -0.308256   \n",
       "3  1.887959  0.437447 -0.400016  0.229621 -0.417821 -0.249369 -0.308256   \n",
       "4  1.907092  0.441055 -0.418614  0.243324 -0.394151 -0.249369 -0.308256   \n",
       "\n",
       "     Ba_avg     Q_avg     Q_min     Q_max     Q_std   Dst_avg  Gb1t_avg  \\\n",
       "0 -0.423531  0.121381  0.217100  0.182151  0.278744  0.574858 -0.100872   \n",
       "1 -0.425287  0.621059  0.904185  0.824877  0.142120  0.196272 -0.193566   \n",
       "2 -0.401144  0.922654  0.203509  0.464584  0.052724  0.082697 -0.222935   \n",
       "3  0.416225  1.594215 -1.321668  3.301893  5.844912  0.188911 -0.338573   \n",
       "4  1.573359 -0.913117 -0.053959 -1.030786 -0.900271  0.162620 -0.592793   \n",
       "\n",
       "    Git_avg  Gost_avg    Yt_avg   Ws1_std   Ws2_std    Ws_avg    Ws_min  \\\n",
       "0  0.632286  0.376578 -1.737731 -0.496315 -0.409871 -0.577004 -0.520623   \n",
       "1  0.493536  0.314220 -1.501557 -0.403675 -0.261742 -0.585143 -0.603902   \n",
       "2  0.440073  0.275745 -0.706023  0.244807 -0.039549 -0.784538 -1.353417   \n",
       "3  0.392974  0.231962 -0.424790  0.870128 -0.582689 -1.256576 -1.786469   \n",
       "4  0.246587  0.161644 -0.230568 -0.635276 -0.681441 -1.374586 -1.353417   \n",
       "\n",
       "     Wa_avg    Ot_avg    Rs_avg   Rbt_avg  Yt_avg_1h  Yt_avg_3h  Rs_avg_1h  \\\n",
       "0  0.673374 -1.257992 -0.316649 -0.365961  -0.596207  -0.580934  -0.100055   \n",
       "1  0.652651 -1.264511 -0.325853 -0.420154  -0.697260  -0.661860  -0.160386   \n",
       "2  0.802026 -1.257992 -0.340580 -0.435103  -0.754790  -0.705931  -0.230230   \n",
       "3  0.735018 -1.239737 -0.933321 -0.450053  -0.805316  -0.738887  -0.373177   \n",
       "4  0.660225 -1.225395 -1.842682 -0.498639  -0.843336  -0.718607  -0.619123   \n",
       "\n",
       "   Rs_avg_6h  Gb1t_avg_3h  Gost_avg_6h  Wa_avg_1h  Wa_avg_3h  Ba_avg_1h  \\\n",
       "0   0.719170     0.368887     0.386968   0.567983   0.564711  -0.462081   \n",
       "1   0.694337     0.326433     0.391126   0.602587   0.570227  -0.459052   \n",
       "2   0.669116     0.278815     0.395947   0.661274   0.586462  -0.452402   \n",
       "3   0.627858     0.226530     0.393923   0.706061   0.599664  -0.323147   \n",
       "4   0.557204     0.158803     0.387078   0.719237   0.609316  -0.020390   \n",
       "\n",
       "   Ba_avg_3h  Ba_avg_6h        TI      year       Jan       Feb       Mar  \\\n",
       "0  -0.496148  -0.531200 -0.102166 -1.415811  3.186269 -0.289833 -0.305137   \n",
       "1  -0.494972  -0.530560 -0.013097 -1.415811  3.186269 -0.289833 -0.305137   \n",
       "2  -0.492391  -0.529155  0.506538 -1.415811  3.186269 -0.289833 -0.305137   \n",
       "3  -0.442230  -0.501848  1.029438 -1.415811  3.186269 -0.289833 -0.305137   \n",
       "4  -0.324711  -0.437872  0.518113 -1.415811  3.186269 -0.289833 -0.305137   \n",
       "\n",
       "        Apr       May       Jun       Jul       Aug      Sept       Oct  \\\n",
       "0 -0.299648 -0.302019 -0.294941 -0.303859 -0.304745 -0.298823 -0.304847   \n",
       "1 -0.299648 -0.302019 -0.294941 -0.303859 -0.304745 -0.298823 -0.304847   \n",
       "2 -0.299648 -0.302019 -0.294941 -0.303859 -0.304745 -0.298823 -0.304847   \n",
       "3 -0.299648 -0.302019 -0.294941 -0.303859 -0.304745 -0.298823 -0.304847   \n",
       "4 -0.299648 -0.302019 -0.294941 -0.303859 -0.304745 -0.298823 -0.304847   \n",
       "\n",
       "        Nov       Dec        P_3h  \n",
       "0 -0.294243 -0.305692  340.419474  \n",
       "1 -0.294243 -0.305692  316.015263  \n",
       "2 -0.294243 -0.305692  288.485788  \n",
       "3 -0.294243 -0.305692  263.388947  \n",
       "4 -0.294243 -0.305692  234.953157  "
      ]
     },
     "execution_count": 8,
     "metadata": {},
     "output_type": "execute_result"
    }
   ],
   "source": [
    "# Dataframe for modelling: 1 turbine\n",
    "pd.set_option('display.max_columns', None)\n",
    "df.head()"
   ]
  },
  {
   "cell_type": "markdown",
   "metadata": {},
   "source": [
    "### 2) Divide data in X,Y "
   ]
  },
  {
   "cell_type": "code",
   "execution_count": 9,
   "metadata": {},
   "outputs": [],
   "source": [
    "# assign values of X and Y\n",
    "X= np.array(df.iloc[:,:-1])\n",
    "y= np.array(df.iloc[:,-1])"
   ]
  },
  {
   "cell_type": "code",
   "execution_count": 10,
   "metadata": {},
   "outputs": [
    {
     "data": {
      "text/plain": [
       "(250124, 50)"
      ]
     },
     "execution_count": 10,
     "metadata": {},
     "output_type": "execute_result"
    }
   ],
   "source": [
    "X.shape"
   ]
  },
  {
   "cell_type": "code",
   "execution_count": 11,
   "metadata": {},
   "outputs": [
    {
     "data": {
      "text/plain": [
       "(250124,)"
      ]
     },
     "execution_count": 11,
     "metadata": {},
     "output_type": "execute_result"
    }
   ],
   "source": [
    "y.shape"
   ]
  },
  {
   "cell_type": "markdown",
   "metadata": {},
   "source": [
    "### 3) Models\n",
    "    - 3.1 Model 2: KFold + Random Forest Regressor\n",
    "    - 3.2 Model 1: PCA + Random Forest Regressor"
   ]
  },
  {
   "cell_type": "markdown",
   "metadata": {},
   "source": [
    "**3.1 Model 1: KFold + Random Forest Regressor**"
   ]
  },
  {
   "cell_type": "code",
   "execution_count": 12,
   "metadata": {},
   "outputs": [
    {
     "name": "stdout",
     "output_type": "stream",
     "text": [
      "KFold(n_splits=5, random_state=None, shuffle=False)\n",
      "TRAIN: [ 50025  50026  50027 ... 250121 250122 250123] TEST: [    0     1     2 ... 50022 50023 50024]\n",
      "building tree 1 of 100building tree 2 of 100\n",
      "building tree 3 of 100building tree 4 of 100\n",
      "building tree 5 of 100\n",
      "\n",
      "\n",
      "building tree 6 of 100building tree 7 of 100building tree 8 of 100\n",
      "\n",
      "\n",
      "building tree 9 of 100building tree 10 of 100\n",
      "building tree 11 of 100\n",
      "\n",
      "building tree 12 of 100\n"
     ]
    },
    {
     "name": "stderr",
     "output_type": "stream",
     "text": [
      "[Parallel(n_jobs=-1)]: Using backend ThreadingBackend with 12 concurrent workers.\n"
     ]
    },
    {
     "name": "stdout",
     "output_type": "stream",
     "text": [
      "building tree 13 of 100\n",
      "building tree 14 of 100\n",
      "building tree 15 of 100\n",
      "building tree 16 of 100\n",
      "building tree 17 of 100\n",
      "building tree 18 of 100\n",
      "building tree 19 of 100\n",
      "building tree 20 of 100\n"
     ]
    },
    {
     "name": "stderr",
     "output_type": "stream",
     "text": [
      "[Parallel(n_jobs=-1)]: Done   8 tasks      | elapsed:   13.6s\n"
     ]
    },
    {
     "name": "stdout",
     "output_type": "stream",
     "text": [
      "building tree 21 of 100\n",
      "building tree 22 of 100\n",
      "building tree 23 of 100\n",
      "building tree 24 of 100\n",
      "building tree 25 of 100\n",
      "building tree 26 of 100\n",
      "building tree 27 of 100\n",
      "building tree 28 of 100\n",
      "building tree 29 of 100\n",
      "building tree 30 of 100\n",
      "building tree 31 of 100\n",
      "building tree 32 of 100\n",
      "building tree 33 of 100\n",
      "building tree 34 of 100\n",
      "building tree 35 of 100\n",
      "building tree 36 of 100\n",
      "building tree 37 of 100\n",
      "building tree 38 of 100\n",
      "building tree 39 of 100\n",
      "building tree 40 of 100\n",
      "building tree 41 of 100\n",
      "building tree 42 of 100\n",
      "building tree 43 of 100\n",
      "building tree 44 of 100\n",
      "building tree 45 of 100\n",
      "building tree 46 of 100\n",
      "building tree 47 of 100\n",
      "building tree 48 of 100\n",
      "building tree 49 of 100\n",
      "building tree 50 of 100\n",
      "building tree 51 of 100\n",
      "building tree 52 of 100\n",
      "building tree 53 of 100\n",
      "building tree 54 of 100\n",
      "building tree 55 of 100\n",
      "building tree 56 of 100\n",
      "building tree 57 of 100\n",
      "building tree 58 of 100\n",
      "building tree 59 of 100\n",
      "building tree 60 of 100\n",
      "building tree 61 of 100\n",
      "building tree 62 of 100\n",
      "building tree 63 of 100\n",
      "building tree 64 of 100\n",
      "building tree 65 of 100\n",
      "building tree 66 of 100\n",
      "building tree 67 of 100\n",
      "building tree 68 of 100\n",
      "building tree 69 of 100\n",
      "building tree 70 of 100\n",
      "building tree 71 of 100\n",
      "building tree 72 of 100\n",
      "building tree 73 of 100\n",
      "building tree 74 of 100\n",
      "building tree 75 of 100\n",
      "building tree 76 of 100\n",
      "building tree 77 of 100\n",
      "building tree 78 of 100\n",
      "building tree 79 of 100\n",
      "building tree 80 of 100\n",
      "building tree 81 of 100\n",
      "building tree 82 of 100\n",
      "building tree 83 of 100\n",
      "building tree 84 of 100\n",
      "building tree 85 of 100\n",
      "building tree 86 of 100\n",
      "building tree 87 of 100\n",
      "building tree 88 of 100\n",
      "building tree 89 of 100building tree 90 of 100\n",
      "\n",
      "building tree 91 of 100\n",
      "building tree 92 of 100\n",
      "building tree 93 of 100\n",
      "building tree 94 of 100\n",
      "building tree 95 of 100\n",
      "building tree 96 of 100\n",
      "building tree 97 of 100\n",
      "building tree 98 of 100\n",
      "building tree 99 of 100\n",
      "building tree 100 of 100\n"
     ]
    },
    {
     "name": "stderr",
     "output_type": "stream",
     "text": [
      "[Parallel(n_jobs=-1)]: Done 100 out of 100 | elapsed:  2.1min finished\n",
      "[Parallel(n_jobs=12)]: Using backend ThreadingBackend with 12 concurrent workers.\n",
      "[Parallel(n_jobs=12)]: Done   8 tasks      | elapsed:    0.0s\n",
      "[Parallel(n_jobs=12)]: Done 100 out of 100 | elapsed:    0.2s finished\n"
     ]
    },
    {
     "name": "stdout",
     "output_type": "stream",
     "text": [
      "0.9634726151873084\n",
      "TRAIN: [     0      1      2 ... 250121 250122 250123] TEST: [ 50025  50026  50027 ... 100047 100048 100049]\n"
     ]
    },
    {
     "name": "stderr",
     "output_type": "stream",
     "text": [
      "[Parallel(n_jobs=-1)]: Using backend ThreadingBackend with 12 concurrent workers.\n"
     ]
    },
    {
     "name": "stdout",
     "output_type": "stream",
     "text": [
      "building tree 1 of 100building tree 2 of 100\n",
      "building tree 3 of 100\n",
      "building tree 4 of 100building tree 5 of 100\n",
      "\n",
      "building tree 6 of 100\n",
      "building tree 7 of 100\n",
      "\n",
      "building tree 8 of 100building tree 9 of 100\n",
      "\n",
      "building tree 10 of 100building tree 11 of 100\n",
      "\n",
      "building tree 12 of 100\n",
      "building tree 13 of 100\n",
      "building tree 14 of 100\n",
      "building tree 15 of 100\n",
      "building tree 16 of 100\n",
      "building tree 17 of 100\n",
      "building tree 18 of 100\n",
      "building tree 19 of 100\n",
      "building tree 20 of 100\n",
      "building tree 21 of 100\n",
      "building tree 22 of 100\n",
      "building tree 23 of 100\n"
     ]
    },
    {
     "name": "stderr",
     "output_type": "stream",
     "text": [
      "[Parallel(n_jobs=-1)]: Done   8 tasks      | elapsed:   13.4s\n"
     ]
    },
    {
     "name": "stdout",
     "output_type": "stream",
     "text": [
      "building tree 24 of 100\n",
      "building tree 25 of 100\n",
      "building tree 26 of 100\n",
      "building tree 27 of 100\n",
      "building tree 28 of 100\n",
      "building tree 29 of 100\n",
      "building tree 30 of 100\n",
      "building tree 31 of 100\n",
      "building tree 32 of 100\n",
      "building tree 33 of 100\n",
      "building tree 34 of 100\n",
      "building tree 35 of 100\n",
      "building tree 36 of 100\n",
      "building tree 37 of 100\n",
      "building tree 38 of 100\n",
      "building tree 39 of 100\n",
      "building tree 40 of 100\n",
      "building tree 41 of 100\n",
      "building tree 42 of 100\n",
      "building tree 43 of 100\n",
      "building tree 44 of 100\n",
      "building tree 45 of 100\n",
      "building tree 46 of 100\n",
      "building tree 47 of 100\n",
      "building tree 48 of 100\n",
      "building tree 49 of 100\n",
      "building tree 50 of 100\n",
      "building tree 51 of 100\n",
      "building tree 52 of 100\n",
      "building tree 53 of 100\n",
      "building tree 54 of 100\n",
      "building tree 55 of 100\n",
      "building tree 56 of 100\n",
      "building tree 57 of 100\n",
      "building tree 58 of 100\n",
      "building tree 59 of 100\n",
      "building tree 60 of 100\n",
      "building tree 61 of 100\n",
      "building tree 62 of 100\n",
      "building tree 63 of 100\n",
      "building tree 64 of 100\n",
      "building tree 65 of 100\n",
      "building tree 66 of 100\n",
      "building tree 67 of 100\n",
      "building tree 68 of 100\n",
      "building tree 69 of 100\n",
      "building tree 70 of 100\n",
      "building tree 71 of 100\n",
      "building tree 72 of 100\n",
      "building tree 73 of 100\n",
      "building tree 74 of 100\n",
      "building tree 75 of 100\n",
      "building tree 76 of 100\n",
      "building tree 77 of 100\n",
      "building tree 78 of 100\n",
      "building tree 79 of 100\n",
      "building tree 80 of 100\n",
      "building tree 81 of 100\n",
      "building tree 82 of 100\n",
      "building tree 83 of 100\n",
      "building tree 84 of 100\n",
      "building tree 85 of 100\n",
      "building tree 86 of 100\n",
      "building tree 87 of 100\n",
      "building tree 88 of 100\n",
      "building tree 89 of 100\n",
      "building tree 90 of 100\n",
      "building tree 91 of 100\n",
      "building tree 92 of 100\n",
      "building tree 93 of 100\n",
      "building tree 94 of 100\n",
      "building tree 95 of 100\n",
      "building tree 96 of 100\n",
      "building tree 97 of 100\n",
      "building tree 98 of 100\n",
      "building tree 99 of 100\n",
      "building tree 100 of 100\n"
     ]
    },
    {
     "name": "stderr",
     "output_type": "stream",
     "text": [
      "[Parallel(n_jobs=-1)]: Done 100 out of 100 | elapsed:  2.0min finished\n",
      "[Parallel(n_jobs=12)]: Using backend ThreadingBackend with 12 concurrent workers.\n",
      "[Parallel(n_jobs=12)]: Done   8 tasks      | elapsed:    0.0s\n",
      "[Parallel(n_jobs=12)]: Done 100 out of 100 | elapsed:    0.3s finished\n"
     ]
    },
    {
     "name": "stdout",
     "output_type": "stream",
     "text": [
      "0.9819854710967821\n",
      "TRAIN: [     0      1      2 ... 250121 250122 250123] TEST: [100050 100051 100052 ... 150072 150073 150074]\n"
     ]
    },
    {
     "name": "stderr",
     "output_type": "stream",
     "text": [
      "[Parallel(n_jobs=-1)]: Using backend ThreadingBackend with 12 concurrent workers.\n"
     ]
    },
    {
     "name": "stdout",
     "output_type": "stream",
     "text": [
      "building tree 1 of 100building tree 2 of 100\n",
      "building tree 3 of 100building tree 4 of 100\n",
      "\n",
      "building tree 5 of 100\n",
      "\n",
      "building tree 6 of 100\n",
      "building tree 7 of 100\n",
      "building tree 8 of 100\n",
      "building tree 9 of 100building tree 10 of 100\n",
      "building tree 11 of 100\n",
      "building tree 12 of 100\n",
      "\n",
      "building tree 13 of 100\n",
      "building tree 14 of 100\n",
      "building tree 15 of 100\n",
      "building tree 16 of 100\n",
      "building tree 17 of 100\n",
      "building tree 18 of 100\n",
      "building tree 19 of 100\n",
      "building tree 20 of 100\n",
      "building tree 21 of 100\n",
      "building tree 22 of 100\n",
      "building tree 23 of 100"
     ]
    },
    {
     "name": "stderr",
     "output_type": "stream",
     "text": [
      "[Parallel(n_jobs=-1)]: Done   8 tasks      | elapsed:   14.2s\n"
     ]
    },
    {
     "name": "stdout",
     "output_type": "stream",
     "text": [
      "\n",
      "building tree 24 of 100\n",
      "building tree 25 of 100\n",
      "building tree 26 of 100\n",
      "building tree 27 of 100\n",
      "building tree 28 of 100\n",
      "building tree 29 of 100\n",
      "building tree 30 of 100\n",
      "building tree 31 of 100\n",
      "building tree 32 of 100\n",
      "building tree 33 of 100\n",
      "building tree 34 of 100\n",
      "building tree 35 of 100\n",
      "building tree 36 of 100\n",
      "building tree 37 of 100\n",
      "building tree 38 of 100\n",
      "building tree 39 of 100\n",
      "building tree 40 of 100\n",
      "building tree 41 of 100\n",
      "building tree 42 of 100\n",
      "building tree 43 of 100\n",
      "building tree 44 of 100\n",
      "building tree 45 of 100\n",
      "building tree 46 of 100\n",
      "building tree 47 of 100\n",
      "building tree 48 of 100\n",
      "building tree 49 of 100\n",
      "building tree 50 of 100\n",
      "building tree 51 of 100\n",
      "building tree 52 of 100\n",
      "building tree 53 of 100\n",
      "building tree 54 of 100\n",
      "building tree 55 of 100\n",
      "building tree 56 of 100\n",
      "building tree 57 of 100\n",
      "building tree 58 of 100\n",
      "building tree 59 of 100\n",
      "building tree 60 of 100\n",
      "building tree 61 of 100\n",
      "building tree 62 of 100\n",
      "building tree 63 of 100\n",
      "building tree 64 of 100\n",
      "building tree 65 of 100\n",
      "building tree 66 of 100\n",
      "building tree 67 of 100\n",
      "building tree 68 of 100\n",
      "building tree 69 of 100\n",
      "building tree 70 of 100\n",
      "building tree 71 of 100\n",
      "building tree 72 of 100\n",
      "building tree 73 of 100\n",
      "building tree 74 of 100\n",
      "building tree 75 of 100\n",
      "building tree 76 of 100\n",
      "building tree 77 of 100\n",
      "building tree 78 of 100\n",
      "building tree 79 of 100\n",
      "building tree 80 of 100\n",
      "building tree 81 of 100\n",
      "building tree 82 of 100\n",
      "building tree 83 of 100\n",
      "building tree 84 of 100\n",
      "building tree 85 of 100\n",
      "building tree 86 of 100\n",
      "building tree 87 of 100\n",
      "building tree 88 of 100\n",
      "building tree 89 of 100\n",
      "building tree 90 of 100\n",
      "building tree 91 of 100\n",
      "building tree 92 of 100\n",
      "building tree 93 of 100\n",
      "building tree 94 of 100\n",
      "building tree 95 of 100\n",
      "building tree 96 of 100\n",
      "building tree 97 of 100\n",
      "building tree 98 of 100\n",
      "building tree 99 of 100\n",
      "building tree 100 of 100\n"
     ]
    },
    {
     "name": "stderr",
     "output_type": "stream",
     "text": [
      "[Parallel(n_jobs=-1)]: Done 100 out of 100 | elapsed:  2.0min finished\n",
      "[Parallel(n_jobs=12)]: Using backend ThreadingBackend with 12 concurrent workers.\n",
      "[Parallel(n_jobs=12)]: Done   8 tasks      | elapsed:    0.0s\n",
      "[Parallel(n_jobs=12)]: Done 100 out of 100 | elapsed:    0.3s finished\n"
     ]
    },
    {
     "name": "stdout",
     "output_type": "stream",
     "text": [
      "0.9858909400816566\n",
      "TRAIN: [     0      1      2 ... 250121 250122 250123] TEST: [150075 150076 150077 ... 200097 200098 200099]\n"
     ]
    },
    {
     "name": "stderr",
     "output_type": "stream",
     "text": [
      "[Parallel(n_jobs=-1)]: Using backend ThreadingBackend with 12 concurrent workers.\n"
     ]
    },
    {
     "name": "stdout",
     "output_type": "stream",
     "text": [
      "building tree 1 of 100building tree 2 of 100\n",
      "building tree 3 of 100\n",
      "building tree 4 of 100\n",
      "building tree 5 of 100\n",
      "building tree 6 of 100\n",
      "\n",
      "building tree 7 of 100building tree 8 of 100\n",
      "\n",
      "building tree 9 of 100building tree 10 of 100\n",
      "building tree 11 of 100\n",
      "building tree 12 of 100\n",
      "\n",
      "building tree 13 of 100\n",
      "building tree 14 of 100\n",
      "building tree 15 of 100\n",
      "building tree 16 of 100building tree 17 of 100\n",
      "\n",
      "building tree 18 of 100\n",
      "building tree 19 of 100\n"
     ]
    },
    {
     "name": "stderr",
     "output_type": "stream",
     "text": [
      "[Parallel(n_jobs=-1)]: Done   8 tasks      | elapsed:   14.7s\n"
     ]
    },
    {
     "name": "stdout",
     "output_type": "stream",
     "text": [
      "building tree 20 of 100\n",
      "building tree 21 of 100\n",
      "building tree 22 of 100\n",
      "building tree 23 of 100\n",
      "building tree 24 of 100\n",
      "building tree 25 of 100\n",
      "building tree 26 of 100\n",
      "building tree 27 of 100\n",
      "building tree 28 of 100\n",
      "building tree 29 of 100\n",
      "building tree 30 of 100\n",
      "building tree 31 of 100\n",
      "building tree 32 of 100\n",
      "building tree 33 of 100\n",
      "building tree 34 of 100\n",
      "building tree 35 of 100\n",
      "building tree 36 of 100\n",
      "building tree 37 of 100\n",
      "building tree 38 of 100\n",
      "building tree 39 of 100\n",
      "building tree 40 of 100\n",
      "building tree 41 of 100\n",
      "building tree 42 of 100\n",
      "building tree 43 of 100\n",
      "building tree 44 of 100\n",
      "building tree 45 of 100\n",
      "building tree 46 of 100\n",
      "building tree 47 of 100\n",
      "building tree 48 of 100\n",
      "building tree 49 of 100\n",
      "building tree 50 of 100building tree 51 of 100\n",
      "\n",
      "building tree 52 of 100\n",
      "building tree 53 of 100\n",
      "building tree 54 of 100\n",
      "building tree 55 of 100\n",
      "building tree 56 of 100\n",
      "building tree 57 of 100\n",
      "building tree 58 of 100\n",
      "building tree 59 of 100\n",
      "building tree 60 of 100\n",
      "building tree 61 of 100\n",
      "building tree 62 of 100\n",
      "building tree 63 of 100\n",
      "building tree 64 of 100\n",
      "building tree 65 of 100\n",
      "building tree 66 of 100\n",
      "building tree 67 of 100\n",
      "building tree 68 of 100\n",
      "building tree 69 of 100\n",
      "building tree 70 of 100\n",
      "building tree 71 of 100\n",
      "building tree 72 of 100\n",
      "building tree 73 of 100\n",
      "building tree 74 of 100\n",
      "building tree 75 of 100\n",
      "building tree 76 of 100\n",
      "building tree 77 of 100\n",
      "building tree 78 of 100\n",
      "building tree 79 of 100\n",
      "building tree 80 of 100\n",
      "building tree 81 of 100\n",
      "building tree 82 of 100\n",
      "building tree 83 of 100\n",
      "building tree 84 of 100\n",
      "building tree 85 of 100\n",
      "building tree 86 of 100\n",
      "building tree 87 of 100\n",
      "building tree 88 of 100\n",
      "building tree 89 of 100\n",
      "building tree 90 of 100\n",
      "building tree 91 of 100\n",
      "building tree 92 of 100\n",
      "building tree 93 of 100\n",
      "building tree 94 of 100\n",
      "building tree 95 of 100\n",
      "building tree 96 of 100\n",
      "building tree 97 of 100\n",
      "building tree 98 of 100\n",
      "building tree 99 of 100\n",
      "building tree 100 of 100\n"
     ]
    },
    {
     "name": "stderr",
     "output_type": "stream",
     "text": [
      "[Parallel(n_jobs=-1)]: Done 100 out of 100 | elapsed:  2.0min finished\n",
      "[Parallel(n_jobs=12)]: Using backend ThreadingBackend with 12 concurrent workers.\n",
      "[Parallel(n_jobs=12)]: Done   8 tasks      | elapsed:    0.0s\n",
      "[Parallel(n_jobs=12)]: Done 100 out of 100 | elapsed:    0.3s finished\n"
     ]
    },
    {
     "name": "stdout",
     "output_type": "stream",
     "text": [
      "0.9863842664313318\n",
      "TRAIN: [     0      1      2 ... 200097 200098 200099] TEST: [200100 200101 200102 ... 250121 250122 250123]\n"
     ]
    },
    {
     "name": "stderr",
     "output_type": "stream",
     "text": [
      "[Parallel(n_jobs=-1)]: Using backend ThreadingBackend with 12 concurrent workers.\n"
     ]
    },
    {
     "name": "stdout",
     "output_type": "stream",
     "text": [
      "building tree 1 of 100building tree 2 of 100\n",
      "building tree 3 of 100\n",
      "building tree 4 of 100\n",
      "\n",
      "building tree 5 of 100\n",
      "building tree 6 of 100\n",
      "building tree 7 of 100building tree 8 of 100building tree 9 of 100\n",
      "\n",
      "building tree 10 of 100\n",
      "building tree 11 of 100\n",
      "building tree 12 of 100\n",
      "\n",
      "building tree 13 of 100\n",
      "building tree 14 of 100\n",
      "building tree 15 of 100\n",
      "building tree 16 of 100\n",
      "building tree 17 of 100\n",
      "building tree 18 of 100\n",
      "building tree 19 of 100\n",
      "building tree 20 of 100\n"
     ]
    },
    {
     "name": "stderr",
     "output_type": "stream",
     "text": [
      "[Parallel(n_jobs=-1)]: Done   8 tasks      | elapsed:   13.9s\n"
     ]
    },
    {
     "name": "stdout",
     "output_type": "stream",
     "text": [
      "building tree 21 of 100\n",
      "building tree 22 of 100\n",
      "building tree 23 of 100\n",
      "building tree 24 of 100\n",
      "building tree 25 of 100\n",
      "building tree 26 of 100\n",
      "building tree 27 of 100\n",
      "building tree 28 of 100\n",
      "building tree 29 of 100\n",
      "building tree 30 of 100\n",
      "building tree 31 of 100\n",
      "building tree 32 of 100\n",
      "building tree 33 of 100\n",
      "building tree 34 of 100\n",
      "building tree 35 of 100\n",
      "building tree 36 of 100\n",
      "building tree 37 of 100\n",
      "building tree 38 of 100\n",
      "building tree 39 of 100\n",
      "building tree 40 of 100\n",
      "building tree 41 of 100\n",
      "building tree 42 of 100\n",
      "building tree 43 of 100\n",
      "building tree 44 of 100\n",
      "building tree 45 of 100\n",
      "building tree 46 of 100\n",
      "building tree 47 of 100\n",
      "building tree 48 of 100\n",
      "building tree 49 of 100\n",
      "building tree 50 of 100\n",
      "building tree 51 of 100\n",
      "building tree 52 of 100\n",
      "building tree 53 of 100\n",
      "building tree 54 of 100\n",
      "building tree 55 of 100\n",
      "building tree 56 of 100\n",
      "building tree 57 of 100\n",
      "building tree 58 of 100\n",
      "building tree 59 of 100\n",
      "building tree 60 of 100\n",
      "building tree 61 of 100\n",
      "building tree 62 of 100\n",
      "building tree 63 of 100\n",
      "building tree 64 of 100\n",
      "building tree 65 of 100\n",
      "building tree 66 of 100\n",
      "building tree 67 of 100\n",
      "building tree 68 of 100\n",
      "building tree 69 of 100\n",
      "building tree 70 of 100\n",
      "building tree 71 of 100\n",
      "building tree 72 of 100\n",
      "building tree 73 of 100\n",
      "building tree 74 of 100\n",
      "building tree 75 of 100\n",
      "building tree 76 of 100\n",
      "building tree 77 of 100\n",
      "building tree 78 of 100\n",
      "building tree 79 of 100\n",
      "building tree 80 of 100\n",
      "building tree 81 of 100\n",
      "building tree 82 of 100\n",
      "building tree 83 of 100\n",
      "building tree 84 of 100\n",
      "building tree 85 of 100\n",
      "building tree 86 of 100\n",
      "building tree 87 of 100\n",
      "building tree 88 of 100\n",
      "building tree 89 of 100\n",
      "building tree 90 of 100\n",
      "building tree 91 of 100\n",
      "building tree 92 of 100\n",
      "building tree 93 of 100\n",
      "building tree 94 of 100\n",
      "building tree 95 of 100\n",
      "building tree 96 of 100\n",
      "building tree 97 of 100\n",
      "building tree 98 of 100\n",
      "building tree 99 of 100\n",
      "building tree 100 of 100\n"
     ]
    },
    {
     "name": "stderr",
     "output_type": "stream",
     "text": [
      "[Parallel(n_jobs=-1)]: Done 100 out of 100 | elapsed:  2.0min finished\n",
      "[Parallel(n_jobs=12)]: Using backend ThreadingBackend with 12 concurrent workers.\n",
      "[Parallel(n_jobs=12)]: Done   8 tasks      | elapsed:    0.0s\n"
     ]
    },
    {
     "name": "stdout",
     "output_type": "stream",
     "text": [
      "0.9783813389748327\n",
      "CPU times: user 1h 38min, sys: 37.2 s, total: 1h 38min 37s\n",
      "Wall time: 10min 2s\n"
     ]
    },
    {
     "name": "stderr",
     "output_type": "stream",
     "text": [
      "[Parallel(n_jobs=12)]: Done 100 out of 100 | elapsed:    0.3s finished\n"
     ]
    }
   ],
   "source": [
    "%%time\n",
    "kf = KFold(n_splits=5) # Define the split - into 2 folds \n",
    "kf.get_n_splits(X) # returns the number of splitting iterations in the cross-validator\n",
    "print(kf) \n",
    "KFold(n_splits=5, random_state=None, shuffle=False)\n",
    "\n",
    "rfr = RandomForestRegressor(n_estimators = 100, random_state = 0, verbose=3, n_jobs=-1, max_depth= 50)\n",
    "for train_index, test_index in kf.split(X):\n",
    "    print (\"TRAIN:\",train_index,\"TEST:\",test_index)\n",
    "    X_train, X_test = X[train_index], X[test_index]\n",
    "    y_train, y_test= y[train_index], y[test_index]\n",
    "    rfr.fit(X_train, y_train)\n",
    "    #yhat= rfr.predict(X_test)\n",
    "    r2_ajustada = 1 - (1-rfr.score(X_test, y_test))*(len(y_test)-1)/(len(y_test)-X_test.shape[1]-1)\n",
    "    print(r2_ajustada)"
   ]
  },
  {
   "cell_type": "markdown",
   "metadata": {},
   "source": [
    "**3.2 Model 2: PCA + Random Forest Regressor**"
   ]
  },
  {
   "cell_type": "code",
   "execution_count": 13,
   "metadata": {},
   "outputs": [],
   "source": [
    "# Division of training and test sets \n",
    "X_train, X_test, y_train, y_test = train_test_split(X, y, test_size=0.3)"
   ]
  },
  {
   "cell_type": "code",
   "execution_count": 14,
   "metadata": {},
   "outputs": [],
   "source": [
    "# Apply PCA; 10 components/features\n",
    "pca = PCA(n_components=10)\n",
    "X_train_pca = pca.fit_transform(X_train)\n",
    "X_test_pca = pca.transform(X_test)"
   ]
  },
  {
   "cell_type": "code",
   "execution_count": 15,
   "metadata": {
    "scrolled": true
   },
   "outputs": [
    {
     "data": {
      "image/png": "[encoded data removed]",
      "text/plain": [
       "<Figure size 576x432 with 1 Axes>"
      ]
     },
     "metadata": {},
     "output_type": "display_data"
    }
   ],
   "source": [
    "# Plot PCA Variance vs PCA index; relevance of PCA-created features\n",
    "plt.figure(figsize=(8,6))\n",
    "plt.bar(range(0,10), pca.explained_variance_ratio_)\n",
    "plt.title('Variance vs PCA index')\n",
    "plt.ylabel('Variance')\n",
    "plt.xlabel('PCA Index')\n",
    "plt.show()"
   ]
  },
  {
   "cell_type": "code",
   "execution_count": 16,
   "metadata": {
    "scrolled": true
   },
   "outputs": [
    {
     "name": "stderr",
     "output_type": "stream",
     "text": [
      "[Parallel(n_jobs=-1)]: Using backend ThreadingBackend with 12 concurrent workers.\n"
     ]
    },
    {
     "name": "stdout",
     "output_type": "stream",
     "text": [
      "building tree 1 of 100building tree 2 of 100\n",
      "\n",
      "building tree 3 of 100\n",
      "building tree 4 of 100building tree 5 of 100\n",
      "\n",
      "building tree 6 of 100\n",
      "building tree 7 of 100building tree 8 of 100\n",
      "building tree 9 of 100\n",
      "\n",
      "building tree 10 of 100\n",
      "building tree 11 of 100building tree 12 of 100\n",
      "\n",
      "building tree 13 of 100\n",
      "building tree 14 of 100\n",
      "building tree 15 of 100\n",
      "building tree 16 of 100\n",
      "building tree 17 of 100\n",
      "building tree 18 of 100building tree 19 of 100\n",
      "\n",
      "building tree 20 of 100\n",
      "building tree 21 of 100\n",
      "building tree 22 of 100\n",
      "building tree 23 of 100\n",
      "building tree 24 of 100\n"
     ]
    },
    {
     "name": "stderr",
     "output_type": "stream",
     "text": [
      "[Parallel(n_jobs=-1)]: Done   8 tasks      | elapsed:    4.0s\n"
     ]
    },
    {
     "name": "stdout",
     "output_type": "stream",
     "text": [
      "building tree 25 of 100building tree 26 of 100\n",
      "\n",
      "building tree 27 of 100\n",
      "building tree 28 of 100\n",
      "building tree 29 of 100\n",
      "building tree 30 of 100\n",
      "building tree 31 of 100\n",
      "building tree 32 of 100\n",
      "building tree 33 of 100\n",
      "building tree 34 of 100\n",
      "building tree 35 of 100\n",
      "building tree 36 of 100\n",
      "building tree 37 of 100\n",
      "building tree 38 of 100\n",
      "building tree 39 of 100\n",
      "building tree 40 of 100\n",
      "building tree 41 of 100\n",
      "building tree 42 of 100\n",
      "building tree 43 of 100\n",
      "building tree 44 of 100\n",
      "building tree 45 of 100\n",
      "building tree 46 of 100\n",
      "building tree 47 of 100\n",
      "building tree 48 of 100\n",
      "building tree 49 of 100\n",
      "building tree 50 of 100\n",
      "building tree 51 of 100\n",
      "building tree 52 of 100\n",
      "building tree 53 of 100\n",
      "building tree 54 of 100\n",
      "building tree 55 of 100\n",
      "building tree 56 of 100building tree 57 of 100\n",
      "\n",
      "building tree 58 of 100\n",
      "building tree 59 of 100\n",
      "building tree 60 of 100\n",
      "building tree 61 of 100\n",
      "building tree 62 of 100\n",
      "building tree 63 of 100\n",
      "building tree 64 of 100\n",
      "building tree 65 of 100\n",
      "building tree 66 of 100\n",
      "building tree 67 of 100\n",
      "building tree 68 of 100\n",
      "building tree 69 of 100\n",
      "building tree 70 of 100\n",
      "building tree 71 of 100\n",
      "building tree 72 of 100\n",
      "building tree 73 of 100\n",
      "building tree 74 of 100\n",
      "building tree 75 of 100\n",
      "building tree 76 of 100\n",
      "building tree 77 of 100\n",
      "building tree 78 of 100\n",
      "building tree 79 of 100\n",
      "building tree 80 of 100\n",
      "building tree 81 of 100\n",
      "building tree 82 of 100\n",
      "building tree 83 of 100\n",
      "building tree 84 of 100\n",
      "building tree 85 of 100\n",
      "building tree 86 of 100\n",
      "building tree 87 of 100\n",
      "building tree 88 of 100\n",
      "building tree 89 of 100\n",
      "building tree 90 of 100\n",
      "building tree 91 of 100\n",
      "building tree 92 of 100\n",
      "building tree 93 of 100\n",
      "building tree 94 of 100\n",
      "building tree 95 of 100\n",
      "building tree 96 of 100\n",
      "building tree 97 of 100\n",
      "building tree 98 of 100\n",
      "building tree 99 of 100\n",
      "building tree 100 of 100\n"
     ]
    },
    {
     "name": "stderr",
     "output_type": "stream",
     "text": [
      "[Parallel(n_jobs=-1)]: Done 100 out of 100 | elapsed:   36.8s finished\n",
      "[Parallel(n_jobs=-1)]: Using backend LokyBackend with 12 concurrent workers.\n",
      "[Parallel(n_jobs=-1)]: Done   8 tasks      | elapsed:    5.6s\n",
      "[Parallel(n_jobs=-1)]: Done 100 out of 100 | elapsed:   34.8s finished\n",
      "[Parallel(n_jobs=12)]: Using backend ThreadingBackend with 12 concurrent workers.\n",
      "[Parallel(n_jobs=12)]: Done   8 tasks      | elapsed:    0.0s\n",
      "[Parallel(n_jobs=12)]: Done 100 out of 100 | elapsed:    0.2s finished\n",
      "[Parallel(n_jobs=-1)]: Using backend LokyBackend with 12 concurrent workers.\n",
      "[Parallel(n_jobs=-1)]: Done   8 tasks      | elapsed:    4.2s\n",
      "[Parallel(n_jobs=-1)]: Done 100 out of 100 | elapsed:   38.0s finished\n",
      "[Parallel(n_jobs=12)]: Using backend ThreadingBackend with 12 concurrent workers.\n",
      "[Parallel(n_jobs=12)]: Done   8 tasks      | elapsed:    0.0s\n",
      "[Parallel(n_jobs=12)]: Done 100 out of 100 | elapsed:    0.2s finished\n",
      "[Parallel(n_jobs=-1)]: Using backend LokyBackend with 12 concurrent workers.\n",
      "[Parallel(n_jobs=-1)]: Done   8 tasks      | elapsed:    4.4s\n",
      "[Parallel(n_jobs=-1)]: Done 100 out of 100 | elapsed:   34.9s finished\n",
      "[Parallel(n_jobs=12)]: Using backend ThreadingBackend with 12 concurrent workers.\n",
      "[Parallel(n_jobs=12)]: Done   8 tasks      | elapsed:    0.0s\n",
      "[Parallel(n_jobs=12)]: Done 100 out of 100 | elapsed:    0.2s finished\n",
      "[Parallel(n_jobs=-1)]: Using backend LokyBackend with 12 concurrent workers.\n",
      "[Parallel(n_jobs=-1)]: Done   8 tasks      | elapsed:    4.0s\n",
      "[Parallel(n_jobs=-1)]: Done 100 out of 100 | elapsed:   34.2s finished\n",
      "[Parallel(n_jobs=12)]: Using backend ThreadingBackend with 12 concurrent workers.\n",
      "[Parallel(n_jobs=12)]: Done   8 tasks      | elapsed:    0.0s\n",
      "[Parallel(n_jobs=12)]: Done 100 out of 100 | elapsed:    0.2s finished\n",
      "[Parallel(n_jobs=-1)]: Using backend LokyBackend with 12 concurrent workers.\n",
      "[Parallel(n_jobs=-1)]: Done   8 tasks      | elapsed:    4.4s\n",
      "[Parallel(n_jobs=-1)]: Done 100 out of 100 | elapsed:   35.0s finished\n",
      "[Parallel(n_jobs=12)]: Using backend ThreadingBackend with 12 concurrent workers.\n",
      "[Parallel(n_jobs=12)]: Done   8 tasks      | elapsed:    0.0s\n",
      "[Parallel(n_jobs=12)]: Done 100 out of 100 | elapsed:    0.2s finished\n",
      "[Parallel(n_jobs=-1)]: Using backend LokyBackend with 12 concurrent workers.\n",
      "[Parallel(n_jobs=-1)]: Done   8 tasks      | elapsed:    4.0s\n",
      "[Parallel(n_jobs=-1)]: Done 100 out of 100 | elapsed:   33.7s finished\n",
      "[Parallel(n_jobs=12)]: Using backend ThreadingBackend with 12 concurrent workers.\n",
      "[Parallel(n_jobs=12)]: Done   8 tasks      | elapsed:    0.0s\n",
      "[Parallel(n_jobs=12)]: Done 100 out of 100 | elapsed:    0.2s finished\n",
      "[Parallel(n_jobs=-1)]: Using backend LokyBackend with 12 concurrent workers.\n",
      "[Parallel(n_jobs=-1)]: Done   8 tasks      | elapsed:    4.4s\n",
      "[Parallel(n_jobs=-1)]: Done 100 out of 100 | elapsed:   35.1s finished\n",
      "[Parallel(n_jobs=12)]: Using backend ThreadingBackend with 12 concurrent workers.\n",
      "[Parallel(n_jobs=12)]: Done   8 tasks      | elapsed:    0.0s\n",
      "[Parallel(n_jobs=12)]: Done 100 out of 100 | elapsed:    0.2s finished\n",
      "[Parallel(n_jobs=-1)]: Using backend LokyBackend with 12 concurrent workers.\n",
      "[Parallel(n_jobs=-1)]: Done   8 tasks      | elapsed:    4.0s\n",
      "[Parallel(n_jobs=-1)]: Done 100 out of 100 | elapsed:   34.4s finished\n",
      "[Parallel(n_jobs=12)]: Using backend ThreadingBackend with 12 concurrent workers.\n",
      "[Parallel(n_jobs=12)]: Done   8 tasks      | elapsed:    0.0s\n",
      "[Parallel(n_jobs=12)]: Done 100 out of 100 | elapsed:    0.2s finished\n",
      "[Parallel(n_jobs=-1)]: Using backend LokyBackend with 12 concurrent workers.\n",
      "[Parallel(n_jobs=-1)]: Done   8 tasks      | elapsed:    4.0s\n",
      "[Parallel(n_jobs=-1)]: Done 100 out of 100 | elapsed:   33.7s finished\n",
      "[Parallel(n_jobs=12)]: Using backend ThreadingBackend with 12 concurrent workers.\n",
      "[Parallel(n_jobs=12)]: Done   8 tasks      | elapsed:    0.0s\n",
      "[Parallel(n_jobs=12)]: Done 100 out of 100 | elapsed:    0.2s finished\n",
      "[Parallel(n_jobs=-1)]: Using backend LokyBackend with 12 concurrent workers.\n",
      "[Parallel(n_jobs=-1)]: Done   8 tasks      | elapsed:    4.1s\n",
      "[Parallel(n_jobs=-1)]: Done 100 out of 100 | elapsed:   34.7s finished\n",
      "[Parallel(n_jobs=12)]: Using backend ThreadingBackend with 12 concurrent workers.\n",
      "[Parallel(n_jobs=12)]: Done   8 tasks      | elapsed:    0.0s\n"
     ]
    },
    {
     "name": "stdout",
     "output_type": "stream",
     "text": [
      "CPU times: user 6min 46s, sys: 41.3 s, total: 7min 27s\n",
      "Wall time: 6min 29s\n"
     ]
    },
    {
     "name": "stderr",
     "output_type": "stream",
     "text": [
      "[Parallel(n_jobs=12)]: Done 100 out of 100 | elapsed:    0.2s finished\n"
     ]
    }
   ],
   "source": [
    "%%time\n",
    "# Random forest regressor: 100 trees\n",
    "rfr_pca = RandomForestRegressor(n_estimators = 100, random_state = 0, verbose=3, n_jobs=-1)\n",
    "rfr_pca.fit(X_train_pca, y_train)\n",
    "\n",
    "scores = cross_val_score(rfr_pca, X_train_pca, y_train, cv = 10, scoring=\"r2\")"
   ]
  },
  {
   "cell_type": "markdown",
   "metadata": {},
   "source": [
    "### 4) Metrics\n",
    "    - 4.1 Calculate yhat (predicted)\n",
    "    - 4.2 Calculate r2 score\n",
    "    - 4.3 Calculate MAE (mean absolute error)"
   ]
  },
  {
   "cell_type": "markdown",
   "metadata": {},
   "source": [
    "**4.1 Calculate yhat (predicted)**"
   ]
  },
  {
   "cell_type": "code",
   "execution_count": 17,
   "metadata": {},
   "outputs": [
    {
     "name": "stderr",
     "output_type": "stream",
     "text": [
      "[Parallel(n_jobs=12)]: Using backend ThreadingBackend with 12 concurrent workers.\n",
      "[Parallel(n_jobs=12)]: Done   8 tasks      | elapsed:    0.3s\n",
      "[Parallel(n_jobs=12)]: Done 100 out of 100 | elapsed:    1.1s finished\n",
      "[Parallel(n_jobs=12)]: Using backend ThreadingBackend with 12 concurrent workers.\n",
      "[Parallel(n_jobs=12)]: Done   8 tasks      | elapsed:    0.1s\n",
      "[Parallel(n_jobs=12)]: Done 100 out of 100 | elapsed:    0.8s finished\n"
     ]
    }
   ],
   "source": [
    "# Predicted values (y_hat)\n",
    "yhat_pca = rfr_pca.predict(X_test_pca) # with PCA\n",
    "yhat = rfr.predict(X_test) # with KFold"
   ]
  },
  {
   "cell_type": "markdown",
   "metadata": {},
   "source": [
    "**4.2 Calculate r2 scores**"
   ]
  },
  {
   "cell_type": "code",
   "execution_count": 34,
   "metadata": {},
   "outputs": [
    {
     "name": "stdout",
     "output_type": "stream",
     "text": [
      "R2 score_model 1: 0.9946611511810791 (KFold + RFR)\n",
      "R2 score_model 2: 0.9415430078577728 (PCA + RFR)\n"
     ]
    }
   ],
   "source": [
    "# Print r2 score\n",
    "print('R2 score_model 1:', r2_score(y_test,yhat), '(KFold + RFR)')\n",
    "print('R2 score_model 2:', r2_score(y_test,yhat_pca), '(PCA + RFR)')"
   ]
  },
  {
   "cell_type": "markdown",
   "metadata": {},
   "source": [
    "**4.3 Calculate MAE (mean absolute error)**"
   ]
  },
  {
   "cell_type": "code",
   "execution_count": 35,
   "metadata": {},
   "outputs": [
    {
     "name": "stdout",
     "output_type": "stream",
     "text": [
      "MAE_model 1: 12.68 kW/3h\n",
      "MAE_model 2: 62.91 kW/3h\n"
     ]
    }
   ],
   "source": [
    "# Calculate absolute errors\n",
    "errors_pca = abs(yhat_pca - y_test)\n",
    "errors = abs(yhat - y_test)\n",
    "# Print mean absolute error (MAE) - units: kW/3h\n",
    "print('MAE_model 1:', round(np.mean(errors), 2), 'kW/3h')\n",
    "print('MAE_model 2:', round(np.mean(errors_pca), 2), 'kW/3h')"
   ]
  },
  {
   "cell_type": "markdown",
   "metadata": {},
   "source": [
    "### 5) True vs Predicted\n",
    "    - 5.1 Create dataframe with True and Predicted values \n",
    "    - 5.2 Mean of positive P_3h values\n",
    "    - 5.3 Scatter plot: true vs predicted"
   ]
  },
  {
   "cell_type": "markdown",
   "metadata": {},
   "source": [
    "**5.1 Create dataframe with True and Predicted values**"
   ]
  },
  {
   "cell_type": "code",
   "execution_count": 20,
   "metadata": {},
   "outputs": [],
   "source": [
    "df_solutions_pca = pd.DataFrame({'True (y_test)' : np.array(y_test), 'Predicted (y_hat)' : np.array(yhat_pca)})"
   ]
  },
  {
   "cell_type": "code",
   "execution_count": 21,
   "metadata": {
    "scrolled": true
   },
   "outputs": [
    {
     "data": {
      "text/html": [
       "<div>\n",
       "<style scoped>\n",
       "    .dataframe tbody tr th:only-of-type {\n",
       "        vertical-align: middle;\n",
       "    }\n",
       "\n",
       "    .dataframe tbody tr th {\n",
       "        vertical-align: top;\n",
       "    }\n",
       "\n",
       "    .dataframe thead th {\n",
       "        text-align: right;\n",
       "    }\n",
       "</style>\n",
       "<table border=\"1\" class=\"dataframe\">\n",
       "  <thead>\n",
       "    <tr style=\"text-align: right;\">\n",
       "      <th></th>\n",
       "      <th>True (y_test)</th>\n",
       "      <th>Predicted (y_hat)</th>\n",
       "    </tr>\n",
       "  </thead>\n",
       "  <tbody>\n",
       "    <tr>\n",
       "      <th>0</th>\n",
       "      <td>487.925785</td>\n",
       "      <td>432.784284</td>\n",
       "    </tr>\n",
       "    <tr>\n",
       "      <th>1</th>\n",
       "      <td>142.260001</td>\n",
       "      <td>166.369648</td>\n",
       "    </tr>\n",
       "    <tr>\n",
       "      <th>2</th>\n",
       "      <td>-1.074211</td>\n",
       "      <td>-1.044005</td>\n",
       "    </tr>\n",
       "    <tr>\n",
       "      <th>3</th>\n",
       "      <td>182.606316</td>\n",
       "      <td>198.001016</td>\n",
       "    </tr>\n",
       "    <tr>\n",
       "      <th>4</th>\n",
       "      <td>133.589999</td>\n",
       "      <td>186.815184</td>\n",
       "    </tr>\n",
       "  </tbody>\n",
       "</table>\n",
       "</div>"
      ],
      "text/plain": [
       "   True (y_test)  Predicted (y_hat)\n",
       "0     487.925785         432.784284\n",
       "1     142.260001         166.369648\n",
       "2      -1.074211          -1.044005\n",
       "3     182.606316         198.001016\n",
       "4     133.589999         186.815184"
      ]
     },
     "execution_count": 21,
     "metadata": {},
     "output_type": "execute_result"
    }
   ],
   "source": [
    "df_solutions_pca.head()"
   ]
  },
  {
   "cell_type": "code",
   "execution_count": 22,
   "metadata": {},
   "outputs": [],
   "source": [
    "df_solutions_kfold = pd.DataFrame({'True (y_test)' : np.array(y_test), 'Predicted (y_hat)' : np.array(yhat)})"
   ]
  },
  {
   "cell_type": "code",
   "execution_count": 23,
   "metadata": {},
   "outputs": [
    {
     "data": {
      "text/html": [
       "<div>\n",
       "<style scoped>\n",
       "    .dataframe tbody tr th:only-of-type {\n",
       "        vertical-align: middle;\n",
       "    }\n",
       "\n",
       "    .dataframe tbody tr th {\n",
       "        vertical-align: top;\n",
       "    }\n",
       "\n",
       "    .dataframe thead th {\n",
       "        text-align: right;\n",
       "    }\n",
       "</style>\n",
       "<table border=\"1\" class=\"dataframe\">\n",
       "  <thead>\n",
       "    <tr style=\"text-align: right;\">\n",
       "      <th></th>\n",
       "      <th>True (y_test)</th>\n",
       "      <th>Predicted (y_hat)</th>\n",
       "    </tr>\n",
       "  </thead>\n",
       "  <tbody>\n",
       "    <tr>\n",
       "      <th>0</th>\n",
       "      <td>487.925785</td>\n",
       "      <td>480.584613</td>\n",
       "    </tr>\n",
       "    <tr>\n",
       "      <th>1</th>\n",
       "      <td>142.260001</td>\n",
       "      <td>152.588054</td>\n",
       "    </tr>\n",
       "    <tr>\n",
       "      <th>2</th>\n",
       "      <td>-1.074211</td>\n",
       "      <td>-1.069832</td>\n",
       "    </tr>\n",
       "    <tr>\n",
       "      <th>3</th>\n",
       "      <td>182.606316</td>\n",
       "      <td>183.673206</td>\n",
       "    </tr>\n",
       "    <tr>\n",
       "      <th>4</th>\n",
       "      <td>133.589999</td>\n",
       "      <td>139.190426</td>\n",
       "    </tr>\n",
       "  </tbody>\n",
       "</table>\n",
       "</div>"
      ],
      "text/plain": [
       "   True (y_test)  Predicted (y_hat)\n",
       "0     487.925785         480.584613\n",
       "1     142.260001         152.588054\n",
       "2      -1.074211          -1.069832\n",
       "3     182.606316         183.673206\n",
       "4     133.589999         139.190426"
      ]
     },
     "execution_count": 23,
     "metadata": {},
     "output_type": "execute_result"
    }
   ],
   "source": [
    "df_solutions_kfold.head()"
   ]
  },
  {
   "cell_type": "markdown",
   "metadata": {},
   "source": [
    "**5.2 Mean of positive P_3h values**"
   ]
  },
  {
   "cell_type": "code",
   "execution_count": 24,
   "metadata": {},
   "outputs": [],
   "source": [
    "# Extract positive values to calculate the mean while the turbines are working\n",
    "positive_values= df_solutions_pca[df_solutions_pca['True (y_test)'] > 0]"
   ]
  },
  {
   "cell_type": "code",
   "execution_count": 25,
   "metadata": {},
   "outputs": [
    {
     "data": {
      "text/plain": [
       "418.09889669488615"
      ]
     },
     "execution_count": 25,
     "metadata": {},
     "output_type": "execute_result"
    }
   ],
   "source": [
    "# Mean values of P_3h  \n",
    "positive_values['True (y_test)'].mean()"
   ]
  },
  {
   "cell_type": "markdown",
   "metadata": {},
   "source": [
    "**5.3 Scatter plots: true vs predicted**"
   ]
  },
  {
   "cell_type": "code",
   "execution_count": 26,
   "metadata": {},
   "outputs": [
    {
     "data": {
      "image/png": "[encoded data removed]",
      "text/plain": [
       "<Figure size 864x432 with 1 Axes>"
      ]
     },
     "metadata": {},
     "output_type": "display_data"
    },
    {
     "data": {
      "image/png": "[encoded data removed]",
      "text/plain": [
       "<Figure size 864x432 with 1 Axes>"
      ]
     },
     "metadata": {},
     "output_type": "display_data"
    }
   ],
   "source": [
    "# Scatter plot of True vs Predicted; to visualize the fitting\n",
    "list_yhats = [yhat_pca, yhat]\n",
    "title_list = ['True vs Predicted. 1 turbine RFR with PCA', 'True vs Predicted. 1 turbine RFR with KFold']\n",
    "list_x = [df_solutions_pca, df_solutions_kfold]\n",
    "for i, j, k in zip (list_yhats, title_list, list_x):\n",
    "    fig, ax = plt.subplots()\n",
    "    ax.scatter(y_test, i, alpha= 0.4)\n",
    "    x = k['True (y_test)']\n",
    "    y = x*0.99\n",
    "    ax.plot([y.min(), y.max()], [y.min(), y.max()], 'k--', lw=4)\n",
    "    plt.scatter(x, y - np.std(y),marker='_' , c='w', lw=0.040)\n",
    "    plt.scatter(x, y + np.std(y),marker='_' , c='w', lw=0.040)\n",
    "    plt.title(j, fontsize=18)\n",
    "    plt.xlabel('True (y_test)', fontsize=18)\n",
    "    plt.ylabel('Predicted', fontsize=18)\n",
    "    fig.set_size_inches(12, 6)"
   ]
  },
  {
   "cell_type": "markdown",
   "metadata": {},
   "source": [
    "### 6) Feature Importance"
   ]
  },
  {
   "cell_type": "code",
   "execution_count": 27,
   "metadata": {},
   "outputs": [
    {
     "name": "stdout",
     "output_type": "stream",
     "text": [
      "Variable: Rs_avg_1h            Importance: 0.67\n",
      "Variable: Rs_avg_6h            Importance: 0.14\n",
      "Variable: Ba_avg_1h            Importance: 0.09\n",
      "Variable: Ba_avg_3h            Importance: 0.05\n",
      "Variable: Gb1t_avg_3h          Importance: 0.03\n",
      "Variable: Yt_avg_3h            Importance: 0.01\n",
      "Variable: pr_3h                Importance: 0.0\n",
      "Variable: Hum                  Importance: 0.0\n",
      "Variable: Vis_hor              Importance: 0.0\n",
      "Variable: pr_st                Importance: 0.0\n",
      "Variable: W_blast              Importance: 0.0\n",
      "Variable: Rain_1h              Importance: 0.0\n",
      "Variable: Rain_3h              Importance: 0.0\n",
      "Variable: Ba_avg               Importance: 0.0\n",
      "Variable: Q_avg                Importance: 0.0\n",
      "Variable: Q_min                Importance: 0.0\n",
      "Variable: Q_max                Importance: 0.0\n",
      "Variable: Q_std                Importance: 0.0\n",
      "Variable: Dst_avg              Importance: 0.0\n",
      "Variable: Gb1t_avg             Importance: 0.0\n",
      "Variable: Git_avg              Importance: 0.0\n",
      "Variable: Gost_avg             Importance: 0.0\n",
      "Variable: Yt_avg               Importance: 0.0\n",
      "Variable: Ws1_std              Importance: 0.0\n",
      "Variable: Ws2_std              Importance: 0.0\n",
      "Variable: Ws_avg               Importance: 0.0\n",
      "Variable: Ws_min               Importance: 0.0\n",
      "Variable: Wa_avg               Importance: 0.0\n",
      "Variable: Ot_avg               Importance: 0.0\n",
      "Variable: Rs_avg               Importance: 0.0\n",
      "Variable: Rbt_avg              Importance: 0.0\n",
      "Variable: Yt_avg_1h            Importance: 0.0\n",
      "Variable: Gost_avg_6h          Importance: 0.0\n",
      "Variable: Wa_avg_1h            Importance: 0.0\n",
      "Variable: Wa_avg_3h            Importance: 0.0\n",
      "Variable: Ba_avg_6h            Importance: 0.0\n",
      "Variable: TI                   Importance: 0.0\n",
      "Variable: year                 Importance: 0.0\n",
      "Variable: Jan                  Importance: 0.0\n",
      "Variable: Feb                  Importance: 0.0\n",
      "Variable: Mar                  Importance: 0.0\n",
      "Variable: Apr                  Importance: 0.0\n",
      "Variable: May                  Importance: 0.0\n",
      "Variable: Jun                  Importance: 0.0\n",
      "Variable: Jul                  Importance: 0.0\n",
      "Variable: Aug                  Importance: 0.0\n",
      "Variable: Sept                 Importance: 0.0\n",
      "Variable: Oct                  Importance: 0.0\n",
      "Variable: Nov                  Importance: 0.0\n",
      "Variable: Dec                  Importance: 0.0\n"
     ]
    }
   ],
   "source": [
    "# Select all features; not the target! \n",
    "features = df.iloc[:,:-1]\n",
    "\n",
    "feature_importance_list= []\n",
    "# Make list of features\n",
    "feature_list= features.columns\n",
    "# Get numerical feature importances \n",
    "importances = list(rfr.feature_importances_)\n",
    "# List of tuples with variable and importance\n",
    "feature_importances = [(feature, round(importance, 2)) \n",
    "for feature, importance in zip(feature_list, importances)]\n",
    "# Sort the feature importances by most important first \n",
    "feature_importances = sorted(feature_importances, key = lambda x: x[1], reverse = True)\n",
    "# Append to a list\n",
    "feature_importance_list.append(feature_importances)\n",
    "# Print out the feature and importances\n",
    "[print('Variable: {:20} Importance: {}'.format(*pair)) for pair in feature_importances];"
   ]
  },
  {
   "cell_type": "code",
   "execution_count": 28,
   "metadata": {},
   "outputs": [],
   "source": [
    "# Access variable name & percentage\n",
    "list_import= []\n",
    "for i in feature_importance_list:\n",
    "    for j in i:\n",
    "        for k in j:\n",
    "            list_import.append(k)"
   ]
  },
  {
   "cell_type": "code",
   "execution_count": 29,
   "metadata": {},
   "outputs": [],
   "source": [
    "# Function to convert list to dictionary\n",
    "def Convert(lst):\n",
    "    res_dct = {lst[i]: lst[i + 1] for i in range(0, len(lst), 2)}\n",
    "    return res_dct"
   ]
  },
  {
   "cell_type": "code",
   "execution_count": 30,
   "metadata": {},
   "outputs": [],
   "source": [
    "dictionary= Convert(list_import)"
   ]
  },
  {
   "cell_type": "code",
   "execution_count": 31,
   "metadata": {},
   "outputs": [],
   "source": [
    "# Convert dictionary to df\n",
    "df_importance_var = pd.DataFrame([[key, dictionary[key]] for key in dictionary.keys()], \n",
    "                                 columns= ['variable', 'importance (%)'])\n"
   ]
  },
  {
   "cell_type": "code",
   "execution_count": 32,
   "metadata": {},
   "outputs": [
    {
     "data": {
      "text/html": [
       "<div>\n",
       "<style scoped>\n",
       "    .dataframe tbody tr th:only-of-type {\n",
       "        vertical-align: middle;\n",
       "    }\n",
       "\n",
       "    .dataframe tbody tr th {\n",
       "        vertical-align: top;\n",
       "    }\n",
       "\n",
       "    .dataframe thead th {\n",
       "        text-align: right;\n",
       "    }\n",
       "</style>\n",
       "<table border=\"1\" class=\"dataframe\">\n",
       "  <thead>\n",
       "    <tr style=\"text-align: right;\">\n",
       "      <th></th>\n",
       "      <th>variable</th>\n",
       "      <th>importance (%)</th>\n",
       "    </tr>\n",
       "  </thead>\n",
       "  <tbody>\n",
       "    <tr>\n",
       "      <th>0</th>\n",
       "      <td>Rs_avg_1h</td>\n",
       "      <td>0.67</td>\n",
       "    </tr>\n",
       "    <tr>\n",
       "      <th>1</th>\n",
       "      <td>Rs_avg_6h</td>\n",
       "      <td>0.14</td>\n",
       "    </tr>\n",
       "    <tr>\n",
       "      <th>2</th>\n",
       "      <td>Ba_avg_1h</td>\n",
       "      <td>0.09</td>\n",
       "    </tr>\n",
       "    <tr>\n",
       "      <th>3</th>\n",
       "      <td>Ba_avg_3h</td>\n",
       "      <td>0.05</td>\n",
       "    </tr>\n",
       "    <tr>\n",
       "      <th>4</th>\n",
       "      <td>Gb1t_avg_3h</td>\n",
       "      <td>0.03</td>\n",
       "    </tr>\n",
       "    <tr>\n",
       "      <th>5</th>\n",
       "      <td>Yt_avg_3h</td>\n",
       "      <td>0.01</td>\n",
       "    </tr>\n",
       "    <tr>\n",
       "      <th>6</th>\n",
       "      <td>pr_3h</td>\n",
       "      <td>0.00</td>\n",
       "    </tr>\n",
       "    <tr>\n",
       "      <th>7</th>\n",
       "      <td>Hum</td>\n",
       "      <td>0.00</td>\n",
       "    </tr>\n",
       "    <tr>\n",
       "      <th>8</th>\n",
       "      <td>Vis_hor</td>\n",
       "      <td>0.00</td>\n",
       "    </tr>\n",
       "    <tr>\n",
       "      <th>9</th>\n",
       "      <td>pr_st</td>\n",
       "      <td>0.00</td>\n",
       "    </tr>\n",
       "  </tbody>\n",
       "</table>\n",
       "</div>"
      ],
      "text/plain": [
       "      variable  importance (%)\n",
       "0    Rs_avg_1h            0.67\n",
       "1    Rs_avg_6h            0.14\n",
       "2    Ba_avg_1h            0.09\n",
       "3    Ba_avg_3h            0.05\n",
       "4  Gb1t_avg_3h            0.03\n",
       "5    Yt_avg_3h            0.01\n",
       "6        pr_3h            0.00\n",
       "7          Hum            0.00\n",
       "8      Vis_hor            0.00\n",
       "9        pr_st            0.00"
      ]
     },
     "execution_count": 32,
     "metadata": {},
     "output_type": "execute_result"
    }
   ],
   "source": [
    "df_importance_var.head(10)"
   ]
  },
  {
   "cell_type": "code",
   "execution_count": 33,
   "metadata": {},
   "outputs": [
    {
     "data": {
      "text/plain": [
       "<Figure size 1080x1080 with 0 Axes>"
      ]
     },
     "execution_count": 33,
     "metadata": {},
     "output_type": "execute_result"
    },
    {
     "data": {
      "image/png": "[encoded data removed]",
      "text/plain": [
       "<Figure size 460.8x403.2 with 1 Axes>"
      ]
     },
     "metadata": {},
     "output_type": "display_data"
    },
    {
     "data": {
      "text/plain": [
       "<Figure size 1080x1080 with 0 Axes>"
      ]
     },
     "metadata": {},
     "output_type": "display_data"
    }
   ],
   "source": [
    "# Feature importance of 15 variables\n",
    "ax = sns.barplot(x=\"variable\", y=\"importance (%)\", orient= 'v', data=df_importance_var.iloc[:15,:])\n",
    "for item in ax.get_xticklabels():\n",
    "    item.set_rotation(45)\n",
    "plt.title('Feature Importance')\n",
    "plt.figure(figsize=(15,15))\n"
   ]
  }
 ],
 "metadata": {
  "kernelspec": {
   "display_name": "Python 3",
   "language": "python",
   "name": "python3"
  },
  "language_info": {
   "codemirror_mode": {
    "name": "ipython",
    "version": 3
   },
   "file_extension": ".py",
   "mimetype": "text/x-python",
   "name": "python",
   "nbconvert_exporter": "python",
   "pygments_lexer": "ipython3",
   "version": "3.8.3"
  }
 },
 "nbformat": 4,
 "nbformat_minor": 4
}
